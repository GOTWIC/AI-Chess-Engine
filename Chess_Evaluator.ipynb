{
  "nbformat": 4,
  "nbformat_minor": 0,
  "metadata": {
    "colab": {
      "name": "Chess Evaluator.ipynb",
      "provenance": [],
      "collapsed_sections": [],
      "mount_file_id": "1T47A2Zv9HXd3II1xqbGDeXMF9EL95V7S",
      "authorship_tag": "ABX9TyPtLwTJVPCdFQznuKqSFir0",
      "include_colab_link": true
    },
    "kernelspec": {
      "name": "python3",
      "display_name": "Python 3"
    },
    "language_info": {
      "name": "python"
    }
  },
  "cells": [
    {
      "cell_type": "markdown",
      "metadata": {
        "id": "view-in-github",
        "colab_type": "text"
      },
      "source": [
        "<a href=\"https://colab.research.google.com/github/GOTWIC/AI-Chess-Engine/blob/main/Chess_Evaluator.ipynb\" target=\"_parent\"><img src=\"https://colab.research.google.com/assets/colab-badge.svg\" alt=\"Open In Colab\"/></a>"
      ]
    },
    {
      "cell_type": "markdown",
      "source": [
        "# Import Libraries"
      ],
      "metadata": {
        "id": "gyjjMy5FPpgn"
      }
    },
    {
      "cell_type": "code",
      "execution_count": 2,
      "metadata": {
        "id": "i-i4Nh7rLVXf"
      },
      "outputs": [],
      "source": [
        "import pandas as pd\n",
        "import numpy as np\n",
        "from sklearn.metrics import mean_absolute_error\n",
        "from sklearn.model_selection import train_test_split\n",
        "from sklearn.ensemble import RandomForestRegressor\n",
        "import gc\n",
        "from google.colab import drive"
      ]
    },
    {
      "cell_type": "markdown",
      "source": [
        "# Import Original Dataset and Reformat to Custom Dataframe (Not Recommended)\n",
        "\n",
        "The steps in this section achieve the following:\n",
        "1. Import the Original Kaggle dataset\n",
        "2. Load the Dataset into a dataframe\n",
        "3. Parse and Reformat the dataframe for all 13 million positions into a new dataframe\n",
        "4. Upload new dataframe to Google Drive as a .CSV file.\n",
        "\n",
        "Because reformatting 13 million chess positions is incredibly resource intensive, it's better to download the reformatted .CSV file that is generated at the end of this process. Using the reformatted .CSV file will significantly reduce the setup time for subsequent sessions.\n",
        "\n",
        "\n",
        "\n",
        "### *If you want to download the reformatted .CSV file:*\n",
        "*It is better to save the reformatted file to drive and download from there (10 minutes total), rather than save the file to colab's local storage and download directly from here (20 minutes or more).*"
      ],
      "metadata": {
        "id": "3r4owU88OFv8"
      }
    },
    {
      "cell_type": "markdown",
      "source": [
        "## Import Dataset \n",
        "\n",
        "1.   Download Kaggle API .json file\n",
        "2.   Upload to Google Drive (root folder)\n",
        "3.   Mount Google Drive\n",
        "\n"
      ],
      "metadata": {
        "id": "Jg4qYtA3Ps89"
      }
    },
    {
      "cell_type": "code",
      "source": [
        "! pip install kaggle\n",
        "! mkdir ~/.kaggle\n",
        "! cp /content/drive/MyDrive/kaggle.json ~/.kaggle/kaggle.json\n",
        "! chmod 600 ~/.kaggle/kaggle.json\n",
        "! kaggle datasets download ronakbadhe/chess-evaluations\n",
        "! unzip chess-evaluations.zip"
      ],
      "metadata": {
        "colab": {
          "base_uri": "https://localhost:8080/"
        },
        "id": "SSraT30nL8Dc",
        "outputId": "cae24c63-06b1-4284-9c0e-876c23ebbc0c"
      },
      "execution_count": null,
      "outputs": [
        {
          "output_type": "stream",
          "name": "stdout",
          "text": [
            "Requirement already satisfied: kaggle in /usr/local/lib/python3.7/dist-packages (1.5.12)\n",
            "Requirement already satisfied: tqdm in /usr/local/lib/python3.7/dist-packages (from kaggle) (4.63.0)\n",
            "Requirement already satisfied: requests in /usr/local/lib/python3.7/dist-packages (from kaggle) (2.23.0)\n",
            "Requirement already satisfied: python-dateutil in /usr/local/lib/python3.7/dist-packages (from kaggle) (2.8.2)\n",
            "Requirement already satisfied: six>=1.10 in /usr/local/lib/python3.7/dist-packages (from kaggle) (1.15.0)\n",
            "Requirement already satisfied: urllib3 in /usr/local/lib/python3.7/dist-packages (from kaggle) (1.24.3)\n",
            "Requirement already satisfied: certifi in /usr/local/lib/python3.7/dist-packages (from kaggle) (2021.10.8)\n",
            "Requirement already satisfied: python-slugify in /usr/local/lib/python3.7/dist-packages (from kaggle) (6.1.1)\n",
            "Requirement already satisfied: text-unidecode>=1.3 in /usr/local/lib/python3.7/dist-packages (from python-slugify->kaggle) (1.3)\n",
            "Requirement already satisfied: chardet<4,>=3.0.2 in /usr/local/lib/python3.7/dist-packages (from requests->kaggle) (3.0.4)\n",
            "Requirement already satisfied: idna<3,>=2.5 in /usr/local/lib/python3.7/dist-packages (from requests->kaggle) (2.10)\n",
            "mkdir: cannot create directory ‘/root/.kaggle’: File exists\n",
            "chess-evaluations.zip: Skipping, found more recently modified local copy (use --force to force download)\n",
            "Archive:  chess-evaluations.zip\n",
            "replace chessData.csv? [y]es, [n]o, [A]ll, [N]one, [r]ename: "
          ]
        }
      ]
    },
    {
      "cell_type": "markdown",
      "source": [
        "## Load and Read Dataset"
      ],
      "metadata": {
        "id": "2QCxH1G4Q1n9"
      }
    },
    {
      "cell_type": "code",
      "source": [
        "path = 'chessData.csv' \n",
        "rawData = pd.read_csv(path)"
      ],
      "metadata": {
        "id": "J0HX3XHhMg-3"
      },
      "execution_count": 3,
      "outputs": []
    },
    {
      "cell_type": "markdown",
      "source": [
        "## Parse FEN + Evaluation into Custom Data Frame\n",
        "\n",
        "The original data frame includes only two columns: the FEN and the Evaluation. To prepare the dataset for inputting, we need to reformat the input. The reformatting parses the FEN string and allocates a column for every square on the board (64 squares), and an additional column for the evaluation (65 columns in total).\n",
        "\n",
        "***This step will take around 18 minutes to complete.***"
      ],
      "metadata": {
        "id": "xzrTh3fleRHd"
      }
    },
    {
      "cell_type": "code",
      "source": [
        "def parsePiece(piece):\n",
        "  return {\n",
        "        'P': 1,\n",
        "        'N': 2,\n",
        "        'B': 3,\n",
        "        'R': 4,\n",
        "        'Q': 5,\n",
        "        'K': 6,\n",
        "        'p': -1,\n",
        "        'n': -2,\n",
        "        'b': -3,\n",
        "        'r': -4,\n",
        "        'q': -5,\n",
        "        'k': -6,\n",
        "    }[piece]\n",
        "\n",
        "rows = len(rawData)\n",
        "rawParse = np.empty([rows, 65])\n",
        "\n",
        "for row in range(rows):\n",
        "  FENIndex = 0\n",
        "  for char in rawData.FEN[row]:\n",
        "    if char.isalpha():\n",
        "      rawParse[row][FENIndex] = parsePiece(char)\n",
        "      FENIndex += 1\n",
        "    elif char.isdigit():\n",
        "      for emptySpace in range(int(char)):\n",
        "        rawParse[row][FENIndex] = 0\n",
        "        FENIndex += 1\n",
        "    elif char == ' ':\n",
        "      break\n",
        "\n",
        "  eval = rawData.Evaluation[row]\n",
        "  if eval[0] == '+':\n",
        "    rawParse[row][64] = int(eval[1:])\n",
        "  elif eval[0] == '-':\n",
        "    rawParse[row][64] = -1 * int(eval[1:])\n",
        "  elif eval[0] == '#':\n",
        "    if eval[1] == '+':\n",
        "      rawParse[row][64] = 100000\n",
        "    elif eval[1] == '-':\n",
        "      rawParse[row][64] = -100000\n",
        "  else:\n",
        "    rawParse[row][64] = 0\n",
        "\n",
        "  if row%100000 == 0:\n",
        "    print(\"Currently reformatting position #\" + str(row))\n",
        "\n",
        "print(\"Finished processing \" + str(rows) + \" positions\")\n",
        "  \n",
        "\n",
        "squareLabels = []\n",
        "for i in range(1, 9):\n",
        "  for j in range(1, 9):\n",
        "    squareLabels.append(chr(j + 96) + chr((8-i) + 49))\n",
        "squareLabels.append('Evaluation')\n",
        "\n",
        "data = pd.DataFrame(rawParse, columns = squareLabels)\n",
        "\n",
        "print(\"Reformatting Complete\")\n",
        "\n",
        "\n",
        "\n"
      ],
      "metadata": {
        "colab": {
          "base_uri": "https://localhost:8080/"
        },
        "id": "GT7LZfg7OJq9",
        "outputId": "b90ddc82-67c8-4908-8e27-4ee8cff5392b"
      },
      "execution_count": 4,
      "outputs": [
        {
          "output_type": "stream",
          "name": "stdout",
          "text": [
            "Currently reformatting position #0\n",
            "Currently reformatting position #100000\n",
            "Currently reformatting position #200000\n",
            "Currently reformatting position #300000\n",
            "Currently reformatting position #400000\n",
            "Currently reformatting position #500000\n",
            "Currently reformatting position #600000\n",
            "Currently reformatting position #700000\n",
            "Currently reformatting position #800000\n",
            "Currently reformatting position #900000\n",
            "Currently reformatting position #1000000\n",
            "Currently reformatting position #1100000\n",
            "Currently reformatting position #1200000\n",
            "Currently reformatting position #1300000\n",
            "Currently reformatting position #1400000\n",
            "Currently reformatting position #1500000\n",
            "Currently reformatting position #1600000\n",
            "Currently reformatting position #1700000\n",
            "Currently reformatting position #1800000\n",
            "Currently reformatting position #1900000\n",
            "Currently reformatting position #2000000\n",
            "Currently reformatting position #2100000\n",
            "Currently reformatting position #2200000\n",
            "Currently reformatting position #2300000\n",
            "Currently reformatting position #2400000\n",
            "Currently reformatting position #2500000\n",
            "Currently reformatting position #2600000\n",
            "Currently reformatting position #2700000\n",
            "Currently reformatting position #2800000\n",
            "Currently reformatting position #2900000\n",
            "Currently reformatting position #3000000\n",
            "Currently reformatting position #3100000\n",
            "Currently reformatting position #3200000\n",
            "Currently reformatting position #3300000\n",
            "Currently reformatting position #3400000\n",
            "Currently reformatting position #3500000\n",
            "Currently reformatting position #3600000\n",
            "Currently reformatting position #3700000\n",
            "Currently reformatting position #3800000\n",
            "Currently reformatting position #3900000\n",
            "Currently reformatting position #4000000\n",
            "Currently reformatting position #4100000\n",
            "Currently reformatting position #4200000\n",
            "Currently reformatting position #4300000\n",
            "Currently reformatting position #4400000\n",
            "Currently reformatting position #4500000\n",
            "Currently reformatting position #4600000\n",
            "Currently reformatting position #4700000\n",
            "Currently reformatting position #4800000\n",
            "Currently reformatting position #4900000\n",
            "Currently reformatting position #5000000\n",
            "Currently reformatting position #5100000\n",
            "Currently reformatting position #5200000\n",
            "Currently reformatting position #5300000\n",
            "Currently reformatting position #5400000\n",
            "Currently reformatting position #5500000\n",
            "Currently reformatting position #5600000\n",
            "Currently reformatting position #5700000\n",
            "Currently reformatting position #5800000\n",
            "Currently reformatting position #5900000\n",
            "Currently reformatting position #6000000\n",
            "Currently reformatting position #6100000\n",
            "Currently reformatting position #6200000\n",
            "Currently reformatting position #6300000\n",
            "Currently reformatting position #6400000\n",
            "Currently reformatting position #6500000\n",
            "Currently reformatting position #6600000\n",
            "Currently reformatting position #6700000\n",
            "Currently reformatting position #6800000\n",
            "Currently reformatting position #6900000\n",
            "Currently reformatting position #7000000\n",
            "Currently reformatting position #7100000\n",
            "Currently reformatting position #7200000\n",
            "Currently reformatting position #7300000\n",
            "Currently reformatting position #7400000\n",
            "Currently reformatting position #7500000\n",
            "Currently reformatting position #7600000\n",
            "Currently reformatting position #7700000\n",
            "Currently reformatting position #7800000\n",
            "Currently reformatting position #7900000\n",
            "Currently reformatting position #8000000\n",
            "Currently reformatting position #8100000\n",
            "Currently reformatting position #8200000\n",
            "Currently reformatting position #8300000\n",
            "Currently reformatting position #8400000\n",
            "Currently reformatting position #8500000\n",
            "Currently reformatting position #8600000\n",
            "Currently reformatting position #8700000\n",
            "Currently reformatting position #8800000\n",
            "Currently reformatting position #8900000\n",
            "Currently reformatting position #9000000\n",
            "Currently reformatting position #9100000\n",
            "Currently reformatting position #9200000\n",
            "Currently reformatting position #9300000\n",
            "Currently reformatting position #9400000\n",
            "Currently reformatting position #9500000\n",
            "Currently reformatting position #9600000\n",
            "Currently reformatting position #9700000\n",
            "Currently reformatting position #9800000\n",
            "Currently reformatting position #9900000\n",
            "Currently reformatting position #10000000\n",
            "Currently reformatting position #10100000\n",
            "Currently reformatting position #10200000\n",
            "Currently reformatting position #10300000\n",
            "Currently reformatting position #10400000\n",
            "Currently reformatting position #10500000\n",
            "Currently reformatting position #10600000\n",
            "Currently reformatting position #10700000\n",
            "Currently reformatting position #10800000\n",
            "Currently reformatting position #10900000\n",
            "Currently reformatting position #11000000\n",
            "Currently reformatting position #11100000\n",
            "Currently reformatting position #11200000\n",
            "Currently reformatting position #11300000\n",
            "Currently reformatting position #11400000\n",
            "Currently reformatting position #11500000\n",
            "Currently reformatting position #11600000\n",
            "Currently reformatting position #11700000\n",
            "Currently reformatting position #11800000\n",
            "Currently reformatting position #11900000\n",
            "Currently reformatting position #12000000\n",
            "Currently reformatting position #12100000\n",
            "Currently reformatting position #12200000\n",
            "Currently reformatting position #12300000\n",
            "Currently reformatting position #12400000\n",
            "Currently reformatting position #12500000\n",
            "Currently reformatting position #12600000\n",
            "Currently reformatting position #12700000\n",
            "Currently reformatting position #12800000\n",
            "Currently reformatting position #12900000\n",
            "Finished processing 12958035 positions\n",
            "Reformatting Complete\n"
          ]
        }
      ]
    },
    {
      "cell_type": "markdown",
      "source": [
        "## Delete the Original Dataframe\n",
        "Reformatting pretty much deletes all of your ram. This step will free up some memory space."
      ],
      "metadata": {
        "id": "TkvAoCP8P-nI"
      }
    },
    {
      "cell_type": "code",
      "source": [
        "del rawData\n",
        "gc.collect()"
      ],
      "metadata": {
        "colab": {
          "base_uri": "https://localhost:8080/"
        },
        "id": "Mkim-ATqCge0",
        "outputId": "7a58b086-0102-4328-d9b8-0c23e46c6fd6"
      },
      "execution_count": 7,
      "outputs": [
        {
          "output_type": "execute_result",
          "data": {
            "text/plain": [
              "533"
            ]
          },
          "metadata": {},
          "execution_count": 7
        }
      ]
    },
    {
      "cell_type": "markdown",
      "source": [
        "## Save New Dataframe as a .CSV file and download to Google Drive\n",
        "After this step, you can import the new dataframe directly from Google Drive. \n",
        "\n",
        "***This process will take about 7 minutes.*** "
      ],
      "metadata": {
        "id": "Iit-wR7cPqj4"
      }
    },
    {
      "cell_type": "code",
      "source": [
        "path = '/content/drive/My Drive/reformattedChessData.csv'\n",
        "with open(path, 'w', encoding = 'utf-8-sig') as f:\n",
        "  data.to_csv(f)"
      ],
      "metadata": {
        "id": "Zh7n0j7mLYjm"
      },
      "execution_count": 9,
      "outputs": []
    },
    {
      "cell_type": "markdown",
      "source": [
        "# The Reformatted Dataset"
      ],
      "metadata": {
        "id": "nGtWLEgHSSvW"
      }
    }
  ]
}