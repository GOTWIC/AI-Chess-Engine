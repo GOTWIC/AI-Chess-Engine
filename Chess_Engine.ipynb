{
  "nbformat": 4,
  "nbformat_minor": 0,
  "metadata": {
    "colab": {
      "name": "Chess Engine.ipynb",
      "provenance": [],
      "collapsed_sections": [],
      "mount_file_id": "1T47A2Zv9HXd3II1xqbGDeXMF9EL95V7S",
      "authorship_tag": "ABX9TyPWsZNI4hl0e8PZQAl5F7ln",
      "include_colab_link": true
    },
    "kernelspec": {
      "name": "python3",
      "display_name": "Python 3"
    },
    "language_info": {
      "name": "python"
    }
  },
  "cells": [
    {
      "cell_type": "markdown",
      "metadata": {
        "id": "view-in-github",
        "colab_type": "text"
      },
      "source": [
        "<a href=\"https://colab.research.google.com/github/GOTWIC/AI-Chess-Engine/blob/main/Chess_Engine.ipynb\" target=\"_parent\"><img src=\"https://colab.research.google.com/assets/colab-badge.svg\" alt=\"Open In Colab\"/></a>"
      ]
    },
    {
      "cell_type": "markdown",
      "source": [
        "# Import Libraries"
      ],
      "metadata": {
        "id": "gyjjMy5FPpgn"
      }
    },
    {
      "cell_type": "code",
      "execution_count": null,
      "metadata": {
        "id": "i-i4Nh7rLVXf"
      },
      "outputs": [],
      "source": [
        "import pandas as pd\n",
        "import numpy as np\n",
        "from sklearn.metrics import mean_absolute_error\n",
        "from sklearn.model_selection import train_test_split\n",
        "from sklearn.ensemble import RandomForestRegressor\n",
        "import gc\n",
        "from google.colab import drive"
      ]
    },
    {
      "cell_type": "markdown",
      "source": [
        "# Import Original Dataset and Reformat to Custom Dataframe (Not Recommended)\n",
        "\n",
        "The steps in this section achieve the following:\n",
        "1. Import the Original Kaggle dataset\n",
        "2. Load the Dataset into a dataframe\n",
        "3. Parse and Reformat the dataframe for all 13 million positions into a new dataframe\n",
        "4. Upload new dataframe to Google Drive as a .CSV file.\n",
        "\n",
        "Because reformatting 13 million chess positions is incredibly resource intensive, it's better to download the reformatted .CSV file that is generated at the end of this process. Using the reformatted .CSV file will significantly reduce the setup time for subsequent sessions.\n",
        "\n",
        "\n",
        "\n",
        "### *If you want to download the reformatted .CSV file:*\n",
        "*It is better to save the reformatted file to drive and download from there (10 minutes total), rather than save the file to colab's local storage and download directly from here (20 minutes or more).*"
      ],
      "metadata": {
        "id": "3r4owU88OFv8"
      }
    },
    {
      "cell_type": "markdown",
      "source": [
        "## Import Dataset \n",
        "\n",
        "1.   Download Kaggle API .json file\n",
        "2.   Upload to Google Drive (root folder)\n",
        "3.   Mount Google Drive\n",
        "\n"
      ],
      "metadata": {
        "id": "Jg4qYtA3Ps89"
      }
    },
    {
      "cell_type": "code",
      "source": [
        "! pip install kaggle\n",
        "! mkdir ~/.kaggle\n",
        "! cp /content/drive/MyDrive/kaggle.json ~/.kaggle/kaggle.json\n",
        "! chmod 600 ~/.kaggle/kaggle.json\n",
        "! kaggle datasets download ronakbadhe/chess-evaluations\n",
        "! unzip chess-evaluations.zip"
      ],
      "metadata": {
        "colab": {
          "base_uri": "https://localhost:8080/"
        },
        "id": "SSraT30nL8Dc",
        "outputId": "d2b4e153-9fbf-45ca-9928-7db1678cb748"
      },
      "execution_count": null,
      "outputs": [
        {
          "output_type": "stream",
          "name": "stdout",
          "text": [
            "Requirement already satisfied: kaggle in /usr/local/lib/python3.7/dist-packages (1.5.12)\n",
            "Requirement already satisfied: requests in /usr/local/lib/python3.7/dist-packages (from kaggle) (2.23.0)\n",
            "Requirement already satisfied: python-dateutil in /usr/local/lib/python3.7/dist-packages (from kaggle) (2.8.2)\n",
            "Requirement already satisfied: python-slugify in /usr/local/lib/python3.7/dist-packages (from kaggle) (6.1.1)\n",
            "Requirement already satisfied: urllib3 in /usr/local/lib/python3.7/dist-packages (from kaggle) (1.24.3)\n",
            "Requirement already satisfied: tqdm in /usr/local/lib/python3.7/dist-packages (from kaggle) (4.63.0)\n",
            "Requirement already satisfied: certifi in /usr/local/lib/python3.7/dist-packages (from kaggle) (2021.10.8)\n",
            "Requirement already satisfied: six>=1.10 in /usr/local/lib/python3.7/dist-packages (from kaggle) (1.15.0)\n",
            "Requirement already satisfied: text-unidecode>=1.3 in /usr/local/lib/python3.7/dist-packages (from python-slugify->kaggle) (1.3)\n",
            "Requirement already satisfied: chardet<4,>=3.0.2 in /usr/local/lib/python3.7/dist-packages (from requests->kaggle) (3.0.4)\n",
            "Requirement already satisfied: idna<3,>=2.5 in /usr/local/lib/python3.7/dist-packages (from requests->kaggle) (2.10)\n",
            "mkdir: cannot create directory ‘/root/.kaggle’: File exists\n",
            "Downloading chess-evaluations.zip to /content\n",
            " 93% 186M/200M [00:01<00:00, 134MB/s]\n",
            "100% 200M/200M [00:01<00:00, 114MB/s]\n",
            "Archive:  chess-evaluations.zip\n",
            "  inflating: chessData.csv           \n",
            "  inflating: random_evals.csv        \n",
            "  inflating: tactic_evals.csv        \n"
          ]
        }
      ]
    },
    {
      "cell_type": "markdown",
      "source": [
        "## Load and Read Dataset"
      ],
      "metadata": {
        "id": "2QCxH1G4Q1n9"
      }
    },
    {
      "cell_type": "code",
      "source": [
        "path = 'chessData.csv' \n",
        "rawData = pd.read_csv(path)"
      ],
      "metadata": {
        "id": "J0HX3XHhMg-3"
      },
      "execution_count": null,
      "outputs": []
    },
    {
      "cell_type": "markdown",
      "source": [
        "## Parse FEN + Evaluation into Custom Data Frame\n",
        "\n",
        "The original data frame includes only two columns: the FEN and the Evaluation. To prepare the dataset for inputting, we need to reformat the input. The reformatting parses the FEN string and allocates a column for every square on the board (64 squares), and an additional column for the evaluation (65 columns in total).\n",
        "\n",
        "***This step will take around 18 minutes to complete.***"
      ],
      "metadata": {
        "id": "xzrTh3fleRHd"
      }
    },
    {
      "cell_type": "code",
      "source": [
        "def parsePiece(piece):\n",
        "  return {\n",
        "        'P': 1,\n",
        "        'N': 2,\n",
        "        'B': 3,\n",
        "        'R': 4,\n",
        "        'Q': 5,\n",
        "        'K': 6,\n",
        "        'p': -1,\n",
        "        'n': -2,\n",
        "        'b': -3,\n",
        "        'r': -4,\n",
        "        'q': -5,\n",
        "        'k': -6,\n",
        "    }[piece]\n",
        "\n",
        "rows = len(rawData)\n",
        "rawParse = np.empty([rows, 65])\n",
        "\n",
        "for row in range(rows):\n",
        "  FENIndex = 0\n",
        "  for char in rawData.FEN[row]:\n",
        "    if char.isalpha():\n",
        "      rawParse[row][FENIndex] = parsePiece(char)\n",
        "      FENIndex += 1\n",
        "    elif char.isdigit():\n",
        "      for emptySpace in range(int(char)):\n",
        "        rawParse[row][FENIndex] = 0\n",
        "        FENIndex += 1\n",
        "    elif char == ' ':\n",
        "      break\n",
        "\n",
        "  eval = rawData.Evaluation[row]\n",
        "  if eval[0] == '+':\n",
        "    rawParse[row][64] = int(eval[1:])\n",
        "  elif eval[0] == '-':\n",
        "    rawParse[row][64] = -1 * int(eval[1:])\n",
        "  elif eval[0] == '#':\n",
        "    if eval[1] == '+':\n",
        "      rawParse[row][64] = 32000\n",
        "    elif eval[1] == '-':\n",
        "      rawParse[row][64] = -32000\n",
        "  else:\n",
        "    rawParse[row][64] = 0\n",
        "\n",
        "  if row%100000 == 0:\n",
        "    print(\"Currently reformatting position #\" + str(row))\n",
        "\n",
        "print(\"Finished processing \" + str(rows) + \" positions\")\n",
        "  \n",
        "\n",
        "squareLabels = []\n",
        "for i in range(1, 9):\n",
        "  for j in range(1, 9):\n",
        "    squareLabels.append(chr(j + 96) + chr((8-i) + 49))\n",
        "squareLabels.append('Evaluation')\n",
        "\n",
        "data = pd.DataFrame(rawParse, columns = squareLabels)\n",
        "downcasted_data = data.apply(pd.to_numeric,downcast='signed')\n",
        "\n",
        "print(\"Reformatting Complete\")\n",
        "\n",
        "\n",
        "\n"
      ],
      "metadata": {
        "colab": {
          "base_uri": "https://localhost:8080/"
        },
        "id": "GT7LZfg7OJq9",
        "outputId": "c5a68a55-9a53-417a-81ed-ca76aca6b94a"
      },
      "execution_count": null,
      "outputs": [
        {
          "output_type": "stream",
          "name": "stdout",
          "text": [
            "Currently reformatting position #0\n",
            "Currently reformatting position #100000\n",
            "Currently reformatting position #200000\n",
            "Currently reformatting position #300000\n",
            "Currently reformatting position #400000\n",
            "Currently reformatting position #500000\n",
            "Currently reformatting position #600000\n",
            "Currently reformatting position #700000\n",
            "Currently reformatting position #800000\n",
            "Currently reformatting position #900000\n",
            "Currently reformatting position #1000000\n",
            "Currently reformatting position #1100000\n",
            "Currently reformatting position #1200000\n",
            "Currently reformatting position #1300000\n",
            "Currently reformatting position #1400000\n",
            "Currently reformatting position #1500000\n",
            "Currently reformatting position #1600000\n",
            "Currently reformatting position #1700000\n",
            "Currently reformatting position #1800000\n",
            "Currently reformatting position #1900000\n",
            "Currently reformatting position #2000000\n",
            "Currently reformatting position #2100000\n",
            "Currently reformatting position #2200000\n",
            "Currently reformatting position #2300000\n",
            "Currently reformatting position #2400000\n",
            "Currently reformatting position #2500000\n",
            "Currently reformatting position #2600000\n",
            "Currently reformatting position #2700000\n",
            "Currently reformatting position #2800000\n",
            "Currently reformatting position #2900000\n",
            "Currently reformatting position #3000000\n",
            "Currently reformatting position #3100000\n",
            "Currently reformatting position #3200000\n",
            "Currently reformatting position #3300000\n",
            "Currently reformatting position #3400000\n",
            "Currently reformatting position #3500000\n",
            "Currently reformatting position #3600000\n",
            "Currently reformatting position #3700000\n",
            "Currently reformatting position #3800000\n",
            "Currently reformatting position #3900000\n",
            "Currently reformatting position #4000000\n",
            "Currently reformatting position #4100000\n",
            "Currently reformatting position #4200000\n",
            "Currently reformatting position #4300000\n",
            "Currently reformatting position #4400000\n",
            "Currently reformatting position #4500000\n",
            "Currently reformatting position #4600000\n",
            "Currently reformatting position #4700000\n",
            "Currently reformatting position #4800000\n",
            "Currently reformatting position #4900000\n",
            "Currently reformatting position #5000000\n",
            "Currently reformatting position #5100000\n",
            "Currently reformatting position #5200000\n",
            "Currently reformatting position #5300000\n",
            "Currently reformatting position #5400000\n",
            "Currently reformatting position #5500000\n",
            "Currently reformatting position #5600000\n",
            "Currently reformatting position #5700000\n",
            "Currently reformatting position #5800000\n",
            "Currently reformatting position #5900000\n",
            "Currently reformatting position #6000000\n",
            "Currently reformatting position #6100000\n",
            "Currently reformatting position #6200000\n",
            "Currently reformatting position #6300000\n",
            "Currently reformatting position #6400000\n",
            "Currently reformatting position #6500000\n",
            "Currently reformatting position #6600000\n",
            "Currently reformatting position #6700000\n",
            "Currently reformatting position #6800000\n",
            "Currently reformatting position #6900000\n",
            "Currently reformatting position #7000000\n",
            "Currently reformatting position #7100000\n",
            "Currently reformatting position #7200000\n",
            "Currently reformatting position #7300000\n",
            "Currently reformatting position #7400000\n",
            "Currently reformatting position #7500000\n",
            "Currently reformatting position #7600000\n",
            "Currently reformatting position #7700000\n",
            "Currently reformatting position #7800000\n",
            "Currently reformatting position #7900000\n",
            "Currently reformatting position #8000000\n",
            "Currently reformatting position #8100000\n",
            "Currently reformatting position #8200000\n",
            "Currently reformatting position #8300000\n",
            "Currently reformatting position #8400000\n",
            "Currently reformatting position #8500000\n",
            "Currently reformatting position #8600000\n",
            "Currently reformatting position #8700000\n",
            "Currently reformatting position #8800000\n",
            "Currently reformatting position #8900000\n",
            "Currently reformatting position #9000000\n",
            "Currently reformatting position #9100000\n",
            "Currently reformatting position #9200000\n",
            "Currently reformatting position #9300000\n",
            "Currently reformatting position #9400000\n",
            "Currently reformatting position #9500000\n",
            "Currently reformatting position #9600000\n",
            "Currently reformatting position #9700000\n",
            "Currently reformatting position #9800000\n",
            "Currently reformatting position #9900000\n",
            "Currently reformatting position #10000000\n",
            "Currently reformatting position #10100000\n",
            "Currently reformatting position #10200000\n",
            "Currently reformatting position #10300000\n",
            "Currently reformatting position #10400000\n",
            "Currently reformatting position #10500000\n",
            "Currently reformatting position #10600000\n",
            "Currently reformatting position #10700000\n",
            "Currently reformatting position #10800000\n",
            "Currently reformatting position #10900000\n",
            "Currently reformatting position #11000000\n",
            "Currently reformatting position #11100000\n",
            "Currently reformatting position #11200000\n",
            "Currently reformatting position #11300000\n",
            "Currently reformatting position #11400000\n",
            "Currently reformatting position #11500000\n",
            "Currently reformatting position #11600000\n",
            "Currently reformatting position #11700000\n",
            "Currently reformatting position #11800000\n",
            "Currently reformatting position #11900000\n",
            "Currently reformatting position #12000000\n",
            "Currently reformatting position #12100000\n",
            "Currently reformatting position #12200000\n",
            "Currently reformatting position #12300000\n",
            "Currently reformatting position #12400000\n",
            "Currently reformatting position #12500000\n",
            "Currently reformatting position #12600000\n",
            "Currently reformatting position #12700000\n",
            "Currently reformatting position #12800000\n",
            "Currently reformatting position #12900000\n",
            "Finished processing 12958035 positions\n",
            "Reformatting Complete\n"
          ]
        }
      ]
    },
    {
      "cell_type": "markdown",
      "source": [
        "## Delete the Original Dataframe\n",
        "Reformatting pretty much deletes all of your ram. This step will free up some memory space."
      ],
      "metadata": {
        "id": "TkvAoCP8P-nI"
      }
    },
    {
      "cell_type": "code",
      "source": [
        "del rawData\n",
        "del data\n",
        "gc.collect()"
      ],
      "metadata": {
        "colab": {
          "base_uri": "https://localhost:8080/"
        },
        "id": "Mkim-ATqCge0",
        "outputId": "ed577d9c-43eb-4140-e756-e05b0a4412a8"
      },
      "execution_count": null,
      "outputs": [
        {
          "output_type": "execute_result",
          "data": {
            "text/plain": [
              "339"
            ]
          },
          "metadata": {},
          "execution_count": 51
        }
      ]
    },
    {
      "cell_type": "markdown",
      "source": [
        "## Save New Dataframe as a .CSV file and download to Google Drive\n",
        "After this step, you can import the new dataframe directly from Google Drive."
      ],
      "metadata": {
        "id": "Iit-wR7cPqj4"
      }
    },
    {
      "cell_type": "code",
      "source": [
        "path = '/content/drive/My Drive/ReformattedChessDataset.csv'\n",
        "with open(path, 'w', encoding = 'utf-8-sig') as f:\n",
        "  downcasted_data.to_csv(f)"
      ],
      "metadata": {
        "id": "Zh7n0j7mLYjm"
      },
      "execution_count": null,
      "outputs": []
    },
    {
      "cell_type": "markdown",
      "source": [
        "# The Reformatted Dataset"
      ],
      "metadata": {
        "id": "nGtWLEgHSSvW"
      }
    },
    {
      "cell_type": "code",
      "source": [
        "! pip install kaggle\n",
        "! mkdir ~/.kaggle\n",
        "! cp /content/drive/MyDrive/kaggle.json ~/.kaggle/kaggle.json\n",
        "! chmod 600 ~/.kaggle/kaggle.json\n",
        "! kaggle datasets download swagnikroychoudhury/reformattedchessdataset\n",
        "! unzip reformattedchessdataset.zip"
      ],
      "metadata": {
        "colab": {
          "base_uri": "https://localhost:8080/"
        },
        "id": "t409A9g3A8hd",
        "outputId": "aadd0e66-fae8-471b-e675-9da489db73b0"
      },
      "execution_count": null,
      "outputs": [
        {
          "output_type": "stream",
          "name": "stdout",
          "text": [
            "Requirement already satisfied: kaggle in /usr/local/lib/python3.7/dist-packages (1.5.12)\n",
            "Requirement already satisfied: tqdm in /usr/local/lib/python3.7/dist-packages (from kaggle) (4.63.0)\n",
            "Requirement already satisfied: six>=1.10 in /usr/local/lib/python3.7/dist-packages (from kaggle) (1.15.0)\n",
            "Requirement already satisfied: urllib3 in /usr/local/lib/python3.7/dist-packages (from kaggle) (1.24.3)\n",
            "Requirement already satisfied: certifi in /usr/local/lib/python3.7/dist-packages (from kaggle) (2021.10.8)\n",
            "Requirement already satisfied: python-slugify in /usr/local/lib/python3.7/dist-packages (from kaggle) (6.1.1)\n",
            "Requirement already satisfied: requests in /usr/local/lib/python3.7/dist-packages (from kaggle) (2.23.0)\n",
            "Requirement already satisfied: python-dateutil in /usr/local/lib/python3.7/dist-packages (from kaggle) (2.8.2)\n",
            "Requirement already satisfied: text-unidecode>=1.3 in /usr/local/lib/python3.7/dist-packages (from python-slugify->kaggle) (1.3)\n",
            "Requirement already satisfied: idna<3,>=2.5 in /usr/local/lib/python3.7/dist-packages (from requests->kaggle) (2.10)\n",
            "Requirement already satisfied: chardet<4,>=3.0.2 in /usr/local/lib/python3.7/dist-packages (from requests->kaggle) (3.0.4)\n",
            "mkdir: cannot create directory ‘/root/.kaggle’: File exists\n",
            "reformattedchessdataset.zip: Skipping, found more recently modified local copy (use --force to force download)\n",
            "Archive:  reformattedchessdataset.zip\n",
            "replace reformattedChessData.csv? [y]es, [n]o, [A]ll, [N]one, [r]ename: y\n",
            "  inflating: reformattedChessData.csv  \n"
          ]
        }
      ]
    },
    {
      "cell_type": "code",
      "source": [
        "path = 'reformattedChessData.csv' \n",
        "data = pd.read_csv(path)"
      ],
      "metadata": {
        "id": "U6kb3UuvBi1V"
      },
      "execution_count": null,
      "outputs": []
    },
    {
      "cell_type": "code",
      "source": [
        "data.info(memory_usage='deep')\n"
      ],
      "metadata": {
        "colab": {
          "base_uri": "https://localhost:8080/"
        },
        "id": "wax4yaZvEPYO",
        "outputId": "1a3f7818-2b70-4454-8931-c9a667285393"
      },
      "execution_count": null,
      "outputs": [
        {
          "output_type": "stream",
          "name": "stdout",
          "text": [
            "<class 'pandas.core.frame.DataFrame'>\n",
            "RangeIndex: 10 entries, 0 to 9\n",
            "Data columns (total 66 columns):\n",
            " #   Column      Non-Null Count  Dtype  \n",
            "---  ------      --------------  -----  \n",
            " 0   Unnamed: 0  10 non-null     int64  \n",
            " 1   a8          10 non-null     float64\n",
            " 2   b8          10 non-null     float64\n",
            " 3   c8          10 non-null     float64\n",
            " 4   d8          10 non-null     float64\n",
            " 5   e8          10 non-null     float64\n",
            " 6   f8          10 non-null     float64\n",
            " 7   g8          10 non-null     float64\n",
            " 8   h8          10 non-null     float64\n",
            " 9   a7          10 non-null     float64\n",
            " 10  b7          10 non-null     float64\n",
            " 11  c7          10 non-null     float64\n",
            " 12  d7          10 non-null     float64\n",
            " 13  e7          10 non-null     float64\n",
            " 14  f7          10 non-null     float64\n",
            " 15  g7          10 non-null     float64\n",
            " 16  h7          10 non-null     float64\n",
            " 17  a6          10 non-null     float64\n",
            " 18  b6          10 non-null     float64\n",
            " 19  c6          10 non-null     float64\n",
            " 20  d6          10 non-null     float64\n",
            " 21  e6          10 non-null     float64\n",
            " 22  f6          10 non-null     float64\n",
            " 23  g6          10 non-null     float64\n",
            " 24  h6          10 non-null     float64\n",
            " 25  a5          10 non-null     float64\n",
            " 26  b5          10 non-null     float64\n",
            " 27  c5          10 non-null     float64\n",
            " 28  d5          10 non-null     float64\n",
            " 29  e5          10 non-null     float64\n",
            " 30  f5          10 non-null     float64\n",
            " 31  g5          10 non-null     float64\n",
            " 32  h5          10 non-null     float64\n",
            " 33  a4          10 non-null     float64\n",
            " 34  b4          10 non-null     float64\n",
            " 35  c4          10 non-null     float64\n",
            " 36  d4          10 non-null     float64\n",
            " 37  e4          10 non-null     float64\n",
            " 38  f4          10 non-null     float64\n",
            " 39  g4          10 non-null     float64\n",
            " 40  h4          10 non-null     float64\n",
            " 41  a3          10 non-null     float64\n",
            " 42  b3          10 non-null     float64\n",
            " 43  c3          10 non-null     float64\n",
            " 44  d3          10 non-null     float64\n",
            " 45  e3          10 non-null     float64\n",
            " 46  f3          10 non-null     float64\n",
            " 47  g3          10 non-null     float64\n",
            " 48  h3          10 non-null     float64\n",
            " 49  a2          10 non-null     float64\n",
            " 50  b2          10 non-null     float64\n",
            " 51  c2          10 non-null     float64\n",
            " 52  d2          10 non-null     float64\n",
            " 53  e2          10 non-null     float64\n",
            " 54  f2          10 non-null     float64\n",
            " 55  g2          10 non-null     float64\n",
            " 56  h2          10 non-null     float64\n",
            " 57  a1          10 non-null     float64\n",
            " 58  b1          10 non-null     float64\n",
            " 59  c1          10 non-null     float64\n",
            " 60  d1          10 non-null     float64\n",
            " 61  e1          10 non-null     float64\n",
            " 62  f1          10 non-null     float64\n",
            " 63  g1          10 non-null     float64\n",
            " 64  h1          10 non-null     float64\n",
            " 65  Evaluation  10 non-null     float64\n",
            "dtypes: float64(65), int64(1)\n",
            "memory usage: 5.3 KB\n"
          ]
        }
      ]
    },
    {
      "cell_type": "code",
      "source": [
        "def mem_usage(pandas_obj):\n",
        "    if isinstance(pandas_obj,pd.DataFrame):\n",
        "        usage_b = pandas_obj.memory_usage(deep=True).sum()\n",
        "    else: # we assume if not a df it's a series\n",
        "        usage_b = pandas_obj.memory_usage(deep=True)\n",
        "    usage_mb = usage_b / 1024 ** 2 # convert bytes to megabytes\n",
        "    return \"{:03.2f} MB\".format(usage_mb)\n",
        "\n",
        "print(data)\n",
        "\n",
        "downcasted_data = data.apply(pd.to_numeric,downcast='signed')\n",
        "\n",
        "print(downcasted_data)\n",
        "\n",
        "row2cast = data.loc[1]\n",
        "row2cast3 = row2cast.select_dtypes(include=['float64'])\n",
        "row2cast2 = row2cast3.apply(pd.to_numeric,downcast='signed')\n",
        "print(row2cast)\n",
        "print(row2cast2)\n",
        "\n",
        "#gl_int = data.select_dtypes(include=['float64'])\n",
        "#print(gl_int)\n",
        "#dowcasted_data = data.apply(pd.to_numeric,downcast='signed')\n",
        "#print(converted_int)\n",
        "\n",
        "\n",
        "#print(mem_usage(gl_int))\n",
        "#print(mem_usage(converted_int))\n",
        "\n",
        "#converted_int.info(memory_usage='deep')"
      ],
      "metadata": {
        "colab": {
          "base_uri": "https://localhost:8080/",
          "height": 1000
        },
        "id": "NTkGdFi9GQBZ",
        "outputId": "28e561fa-28fe-4eea-b19b-600c1739b869"
      },
      "execution_count": null,
      "outputs": [
        {
          "output_type": "stream",
          "name": "stdout",
          "text": [
            "   Unnamed: 0   a8   b8   c8   d8   e8   f8   g8   h8   a7  ...   h2   a1  \\\n",
            "0           0 -4.0 -2.0 -3.0 -5.0 -6.0 -3.0 -2.0 -4.0 -1.0  ...  1.0  4.0   \n",
            "1           1 -4.0 -2.0 -3.0 -5.0 -6.0 -3.0 -2.0 -4.0 -1.0  ...  1.0  4.0   \n",
            "2           2 -4.0 -2.0 -3.0 -5.0 -6.0 -3.0 -2.0 -4.0 -1.0  ...  1.0  4.0   \n",
            "3           3 -4.0 -2.0 -3.0 -5.0 -6.0 -3.0 -2.0 -4.0 -1.0  ...  1.0  4.0   \n",
            "4           4 -4.0 -2.0 -3.0 -5.0 -6.0 -3.0 -2.0 -4.0 -1.0  ...  1.0  4.0   \n",
            "5           5 -4.0 -2.0 -3.0 -5.0 -6.0 -3.0  0.0 -4.0 -1.0  ...  1.0  4.0   \n",
            "6           6 -4.0 -2.0 -3.0 -5.0 -6.0 -3.0  0.0 -4.0 -1.0  ...  1.0  4.0   \n",
            "7           7 -4.0 -2.0 -3.0 -5.0 -6.0 -3.0  0.0 -4.0 -1.0  ...  1.0  4.0   \n",
            "8           8 -4.0 -2.0 -3.0 -5.0 -6.0 -3.0  0.0 -4.0 -1.0  ...  1.0  4.0   \n",
            "9           9 -4.0 -2.0 -3.0 -5.0 -6.0 -3.0  0.0 -4.0 -1.0  ...  1.0  4.0   \n",
            "\n",
            "    b1   c1   d1   e1   f1   g1   h1  Evaluation  \n",
            "0  2.0  3.0  5.0  6.0  3.0  2.0  4.0       -10.0  \n",
            "1  2.0  3.0  5.0  6.0  3.0  2.0  4.0        56.0  \n",
            "2  2.0  3.0  5.0  6.0  3.0  2.0  4.0        -9.0  \n",
            "3  2.0  3.0  5.0  6.0  3.0  2.0  4.0        52.0  \n",
            "4  0.0  3.0  5.0  6.0  3.0  2.0  4.0       -26.0  \n",
            "5  0.0  3.0  5.0  6.0  3.0  2.0  4.0        50.0  \n",
            "6  0.0  3.0  5.0  6.0  3.0  2.0  4.0        10.0  \n",
            "7  0.0  3.0  5.0  6.0  3.0  2.0  4.0        75.0  \n",
            "8  0.0  3.0  5.0  6.0  3.0  2.0  4.0        52.0  \n",
            "9  0.0  3.0  5.0  6.0  3.0  2.0  4.0        52.0  \n",
            "\n",
            "[10 rows x 66 columns]\n",
            "   Unnamed: 0  a8  b8  c8  d8  e8  f8  g8  h8  a7  ...  h2  a1  b1  c1  d1  \\\n",
            "0           0  -4  -2  -3  -5  -6  -3  -2  -4  -1  ...   1   4   2   3   5   \n",
            "1           1  -4  -2  -3  -5  -6  -3  -2  -4  -1  ...   1   4   2   3   5   \n",
            "2           2  -4  -2  -3  -5  -6  -3  -2  -4  -1  ...   1   4   2   3   5   \n",
            "3           3  -4  -2  -3  -5  -6  -3  -2  -4  -1  ...   1   4   2   3   5   \n",
            "4           4  -4  -2  -3  -5  -6  -3  -2  -4  -1  ...   1   4   0   3   5   \n",
            "5           5  -4  -2  -3  -5  -6  -3   0  -4  -1  ...   1   4   0   3   5   \n",
            "6           6  -4  -2  -3  -5  -6  -3   0  -4  -1  ...   1   4   0   3   5   \n",
            "7           7  -4  -2  -3  -5  -6  -3   0  -4  -1  ...   1   4   0   3   5   \n",
            "8           8  -4  -2  -3  -5  -6  -3   0  -4  -1  ...   1   4   0   3   5   \n",
            "9           9  -4  -2  -3  -5  -6  -3   0  -4  -1  ...   1   4   0   3   5   \n",
            "\n",
            "   e1  f1  g1  h1  Evaluation  \n",
            "0   6   3   2   4         -10  \n",
            "1   6   3   2   4          56  \n",
            "2   6   3   2   4          -9  \n",
            "3   6   3   2   4          52  \n",
            "4   6   3   2   4         -26  \n",
            "5   6   3   2   4          50  \n",
            "6   6   3   2   4          10  \n",
            "7   6   3   2   4          75  \n",
            "8   6   3   2   4          52  \n",
            "9   6   3   2   4          52  \n",
            "\n",
            "[10 rows x 66 columns]\n"
          ]
        },
        {
          "output_type": "error",
          "ename": "AttributeError",
          "evalue": "ignored",
          "traceback": [
            "\u001b[0;31m---------------------------------------------------------------------------\u001b[0m",
            "\u001b[0;31mAttributeError\u001b[0m                            Traceback (most recent call last)",
            "\u001b[0;32m<ipython-input-42-2e0901432b37>\u001b[0m in \u001b[0;36m<module>\u001b[0;34m()\u001b[0m\n\u001b[1;32m     14\u001b[0m \u001b[0;34m\u001b[0m\u001b[0m\n\u001b[1;32m     15\u001b[0m \u001b[0mrow2cast\u001b[0m \u001b[0;34m=\u001b[0m \u001b[0mdata\u001b[0m\u001b[0;34m.\u001b[0m\u001b[0mloc\u001b[0m\u001b[0;34m[\u001b[0m\u001b[0;36m1\u001b[0m\u001b[0;34m]\u001b[0m\u001b[0;34m\u001b[0m\u001b[0;34m\u001b[0m\u001b[0m\n\u001b[0;32m---> 16\u001b[0;31m \u001b[0mrow2cast3\u001b[0m \u001b[0;34m=\u001b[0m \u001b[0mrow2cast\u001b[0m\u001b[0;34m.\u001b[0m\u001b[0mselect_dtypes\u001b[0m\u001b[0;34m(\u001b[0m\u001b[0minclude\u001b[0m\u001b[0;34m=\u001b[0m\u001b[0;34m[\u001b[0m\u001b[0;34m'float64'\u001b[0m\u001b[0;34m]\u001b[0m\u001b[0;34m)\u001b[0m\u001b[0;34m\u001b[0m\u001b[0;34m\u001b[0m\u001b[0m\n\u001b[0m\u001b[1;32m     17\u001b[0m \u001b[0mrow2cast2\u001b[0m \u001b[0;34m=\u001b[0m \u001b[0mrow2cast3\u001b[0m\u001b[0;34m.\u001b[0m\u001b[0mapply\u001b[0m\u001b[0;34m(\u001b[0m\u001b[0mpd\u001b[0m\u001b[0;34m.\u001b[0m\u001b[0mto_numeric\u001b[0m\u001b[0;34m,\u001b[0m\u001b[0mdowncast\u001b[0m\u001b[0;34m=\u001b[0m\u001b[0;34m'signed'\u001b[0m\u001b[0;34m)\u001b[0m\u001b[0;34m\u001b[0m\u001b[0;34m\u001b[0m\u001b[0m\n\u001b[1;32m     18\u001b[0m \u001b[0mprint\u001b[0m\u001b[0;34m(\u001b[0m\u001b[0mrow2cast\u001b[0m\u001b[0;34m)\u001b[0m\u001b[0;34m\u001b[0m\u001b[0;34m\u001b[0m\u001b[0m\n",
            "\u001b[0;32m/usr/local/lib/python3.7/dist-packages/pandas/core/generic.py\u001b[0m in \u001b[0;36m__getattr__\u001b[0;34m(self, name)\u001b[0m\n\u001b[1;32m   5485\u001b[0m         ):\n\u001b[1;32m   5486\u001b[0m             \u001b[0;32mreturn\u001b[0m \u001b[0mself\u001b[0m\u001b[0;34m[\u001b[0m\u001b[0mname\u001b[0m\u001b[0;34m]\u001b[0m\u001b[0;34m\u001b[0m\u001b[0;34m\u001b[0m\u001b[0m\n\u001b[0;32m-> 5487\u001b[0;31m         \u001b[0;32mreturn\u001b[0m \u001b[0mobject\u001b[0m\u001b[0;34m.\u001b[0m\u001b[0m__getattribute__\u001b[0m\u001b[0;34m(\u001b[0m\u001b[0mself\u001b[0m\u001b[0;34m,\u001b[0m \u001b[0mname\u001b[0m\u001b[0;34m)\u001b[0m\u001b[0;34m\u001b[0m\u001b[0;34m\u001b[0m\u001b[0m\n\u001b[0m\u001b[1;32m   5488\u001b[0m \u001b[0;34m\u001b[0m\u001b[0m\n\u001b[1;32m   5489\u001b[0m     \u001b[0;32mdef\u001b[0m \u001b[0m__setattr__\u001b[0m\u001b[0;34m(\u001b[0m\u001b[0mself\u001b[0m\u001b[0;34m,\u001b[0m \u001b[0mname\u001b[0m\u001b[0;34m:\u001b[0m \u001b[0mstr\u001b[0m\u001b[0;34m,\u001b[0m \u001b[0mvalue\u001b[0m\u001b[0;34m)\u001b[0m \u001b[0;34m->\u001b[0m \u001b[0;32mNone\u001b[0m\u001b[0;34m:\u001b[0m\u001b[0;34m\u001b[0m\u001b[0;34m\u001b[0m\u001b[0m\n",
            "\u001b[0;31mAttributeError\u001b[0m: 'Series' object has no attribute 'select_dtypes'"
          ]
        }
      ]
    },
    {
      "cell_type": "code",
      "source": [
        ""
      ],
      "metadata": {
        "id": "FK8Nvm2PH30K"
      },
      "execution_count": null,
      "outputs": []
    }
  ]
}