{
  "cells": [
    {
      "cell_type": "markdown",
      "metadata": {
        "id": "view-in-github",
        "colab_type": "text"
      },
      "source": [
        "<a href=\"https://colab.research.google.com/github/GOTWIC/AI-Chess-Engine/blob/main/Chess_Engine.ipynb\" target=\"_parent\"><img src=\"https://colab.research.google.com/assets/colab-badge.svg\" alt=\"Open In Colab\"/></a>"
      ]
    },
    {
      "cell_type": "markdown",
      "metadata": {
        "id": "gyjjMy5FPpgn"
      },
      "source": [
        "# Import Libraries"
      ]
    },
    {
      "cell_type": "code",
      "execution_count": null,
      "metadata": {
        "id": "i-i4Nh7rLVXf"
      },
      "outputs": [],
      "source": [
        "# Basic Libraries\n",
        "import time\n",
        "import pprint\n",
        "import random\n",
        "import numpy as np\n",
        "import pandas as pd\n",
        "import matplotlib.pyplot as plt\n",
        "\n",
        "# Analysis and Data Libraries\n",
        "from sklearn.metrics import mean_absolute_error\n",
        "from sklearn.model_selection import train_test_split\n",
        "\n",
        "# Regression Libraries\n",
        "import xgboost as xgb\n",
        "from sklearn import linear_model\n",
        "from sklearn.tree import DecisionTreeRegressor\n",
        "from sklearn.ensemble import RandomForestRegressor\n",
        "\n",
        "# Neural Network Libraries\n",
        "import tensorflow as tf\n",
        "from tensorflow import keras\n",
        "from keras import layers\n",
        "from keras import backend as K\n",
        "from keras.models import Sequential\n",
        "from keras.layers import Dense, Dropout\n",
        "from keras.metrics import MeanAbsoluteError\n",
        "from keras.utils.vis_utils import plot_model\n",
        "\n",
        "\n",
        "# Special Libraries\n",
        "import chess\n",
        "\n",
        "# Misc Libraries\n",
        "import gc\n",
        "from google.colab import drive\n",
        "from IPython.display import clear_output \n",
        "\n",
        "# Misc Other\n",
        "! rm -rf sample_data"
      ]
    },
    {
      "cell_type": "markdown",
      "metadata": {
        "id": "3r4owU88OFv8"
      },
      "source": [
        "# Import Original Dataset and Reformat to Custom Dataframe (Not Recommended)\n",
        "\n",
        "The steps in this section achieve the following:\n",
        "1. Import the Original Kaggle dataset\n",
        "2. Load the Dataset into a dataframe\n",
        "3. Parse and Reformat the dataframe for all 13 million positions into a new dataframe\n",
        "4. Upload new dataframe to Google Drive as a .CSV file.\n",
        "\n",
        "Because reformatting 13 million chess positions is incredibly resource intensive, it's better to download the reformatted .CSV file that is generated at the end of this process. Using the reformatted .CSV file will significantly reduce the setup time for subsequent sessions.\n",
        "\n",
        "\n",
        "\n",
        "### *If you want to download the reformatted .CSV file:*\n",
        "*It is better to save the reformatted file to drive and download from there (10 minutes total), rather than save the file to colab's local storage and download directly from here (20 minutes or more).*"
      ]
    },
    {
      "cell_type": "markdown",
      "metadata": {
        "id": "Jg4qYtA3Ps89"
      },
      "source": [
        "## Import Dataset \n",
        "\n",
        "1.   Download Kaggle API .json file\n",
        "2.   Upload to Google Drive (root folder)\n",
        "3.   Mount Google Drive\n",
        "\n"
      ]
    },
    {
      "cell_type": "code",
      "execution_count": null,
      "metadata": {
        "id": "SSraT30nL8Dc"
      },
      "outputs": [],
      "source": [
        "! pip install kaggle\n",
        "! mkdir ~/.kaggle\n",
        "! cp /content/drive/MyDrive/kaggle.json ~/.kaggle/kaggle.json\n",
        "! chmod 600 ~/.kaggle/kaggle.json\n",
        "! kaggle datasets download ronakbadhe/chess-evaluations\n",
        "! unzip chess-evaluations.zip"
      ]
    },
    {
      "cell_type": "markdown",
      "metadata": {
        "id": "2QCxH1G4Q1n9"
      },
      "source": [
        "## Load and Read Dataset"
      ]
    },
    {
      "cell_type": "code",
      "execution_count": null,
      "metadata": {
        "id": "J0HX3XHhMg-3"
      },
      "outputs": [],
      "source": [
        "path = 'chessData.csv' \n",
        "rawData = pd.read_csv(path)"
      ]
    },
    {
      "cell_type": "markdown",
      "metadata": {
        "id": "xzrTh3fleRHd"
      },
      "source": [
        "## Parse FEN + Evaluation into Custom Data Frame\n",
        "\n",
        "The original data frame includes only two columns: the FEN and the Evaluation. To prepare the dataset for inputting, we need to reformat the input. The reformatting parses the FEN string and allocates a column for every square on the board (64 squares), and an additional column for the evaluation (65 columns in total).\n",
        "\n",
        "***This step will take around 18 minutes to complete.***"
      ]
    },
    {
      "cell_type": "code",
      "execution_count": null,
      "metadata": {
        "id": "GT7LZfg7OJq9"
      },
      "outputs": [],
      "source": [
        "def parsePiece(piece):\n",
        "  return {\n",
        "        'P': 1,\n",
        "        'N': 2,\n",
        "        'B': 3,\n",
        "        'R': 4,\n",
        "        'Q': 5,\n",
        "        'K': 6,\n",
        "        'p': -1,\n",
        "        'n': -2,\n",
        "        'b': -3,\n",
        "        'r': -4,\n",
        "        'q': -5,\n",
        "        'k': -6,\n",
        "    }[piece]\n",
        "\n",
        "rows = len(rawData)\n",
        "rawParse = np.empty([rows, 65])\n",
        "\n",
        "for row in range(rows):\n",
        "  FENIndex = 0\n",
        "  for char in rawData.FEN[row]:\n",
        "    if char.isalpha():\n",
        "      rawParse[row][FENIndex] = parsePiece(char)\n",
        "      FENIndex += 1\n",
        "    elif char.isdigit():\n",
        "      for emptySpace in range(int(char)):\n",
        "        rawParse[row][FENIndex] = 0\n",
        "        FENIndex += 1\n",
        "    elif char == ' ':\n",
        "      break\n",
        "\n",
        "  eval = rawData.Evaluation[row]\n",
        "  if eval[0] == '+':\n",
        "    rawParse[row][64] = int(eval[1:])\n",
        "  elif eval[0] == '-':\n",
        "    rawParse[row][64] = -1 * int(eval[1:])\n",
        "  elif eval[0] == '#':\n",
        "    if eval[1] == '+':\n",
        "      rawParse[row][64] = 32000\n",
        "    elif eval[1] == '-':\n",
        "      rawParse[row][64] = -32000\n",
        "  else:\n",
        "    rawParse[row][64] = 0\n",
        "\n",
        "  if row%100000 == 0:\n",
        "    print(\"Currently reformatting position #\" + str(row))\n",
        "\n",
        "print(\"Finished processing \" + str(rows) + \" positions\")\n",
        "  \n",
        "\n",
        "squareLabels = []\n",
        "for i in range(1, 9):\n",
        "  for j in range(1, 9):\n",
        "    squareLabels.append(chr(j + 96) + chr((8-i) + 49))\n",
        "squareLabels.append('Evaluation')\n",
        "\n",
        "data = pd.DataFrame(rawParse, columns = squareLabels)\n",
        "downcasted_data = data.apply(pd.to_numeric,downcast='signed')\n",
        "\n",
        "print(\"Reformatting Complete\")\n",
        "\n",
        "\n",
        "\n"
      ]
    },
    {
      "cell_type": "markdown",
      "metadata": {
        "id": "TkvAoCP8P-nI"
      },
      "source": [
        "## Delete the Original Dataframe\n",
        "Reformatting pretty much deletes all of your ram. This step will free up some memory space."
      ]
    },
    {
      "cell_type": "code",
      "execution_count": null,
      "metadata": {
        "id": "Mkim-ATqCge0"
      },
      "outputs": [],
      "source": [
        "del rawData\n",
        "del data\n",
        "gc.collect()"
      ]
    },
    {
      "cell_type": "markdown",
      "metadata": {
        "id": "Iit-wR7cPqj4"
      },
      "source": [
        "## Save New Dataframe as a .CSV file and download to Google Drive\n",
        "After this step, you can import the new dataframe directly from Google Drive."
      ]
    },
    {
      "cell_type": "code",
      "execution_count": null,
      "metadata": {
        "id": "Zh7n0j7mLYjm"
      },
      "outputs": [],
      "source": [
        "path = '/content/drive/My Drive/ReformattedChessDataset.csv'\n",
        "with open(path, 'w', encoding = 'utf-8-sig') as f:\n",
        "  downcasted_data.to_csv(f)"
      ]
    },
    {
      "cell_type": "markdown",
      "metadata": {
        "id": "nGtWLEgHSSvW"
      },
      "source": [
        "# The Reformatted Dataset"
      ]
    },
    {
      "cell_type": "markdown",
      "metadata": {
        "id": "h1gSWAwNePG1"
      },
      "source": [
        "## Import Dataset \n",
        "\n",
        "1.   Download Kaggle API .json file\n",
        "2.   Upload to Google Drive (root folder)\n",
        "3.   Mount Google Drive\n",
        "\n",
        "*Runtime: Approximately 30 seconds*"
      ]
    },
    {
      "cell_type": "code",
      "execution_count": null,
      "metadata": {
        "colab": {
          "base_uri": "https://localhost:8080/"
        },
        "id": "tNWC_ROndonc",
        "outputId": "2fc6e48f-0379-4c7f-8d0e-e1e83a87bc02"
      },
      "outputs": [
        {
          "name": "stdout",
          "output_type": "stream",
          "text": [
            "Requirement already satisfied: kaggle in /usr/local/lib/python3.7/dist-packages (1.5.12)\n",
            "Requirement already satisfied: certifi in /usr/local/lib/python3.7/dist-packages (from kaggle) (2021.10.8)\n",
            "Requirement already satisfied: python-dateutil in /usr/local/lib/python3.7/dist-packages (from kaggle) (2.8.2)\n",
            "Requirement already satisfied: python-slugify in /usr/local/lib/python3.7/dist-packages (from kaggle) (6.1.1)\n",
            "Requirement already satisfied: urllib3 in /usr/local/lib/python3.7/dist-packages (from kaggle) (1.24.3)\n",
            "Requirement already satisfied: six>=1.10 in /usr/local/lib/python3.7/dist-packages (from kaggle) (1.15.0)\n",
            "Requirement already satisfied: tqdm in /usr/local/lib/python3.7/dist-packages (from kaggle) (4.63.0)\n",
            "Requirement already satisfied: requests in /usr/local/lib/python3.7/dist-packages (from kaggle) (2.23.0)\n",
            "Requirement already satisfied: text-unidecode>=1.3 in /usr/local/lib/python3.7/dist-packages (from python-slugify->kaggle) (1.3)\n",
            "Requirement already satisfied: chardet<4,>=3.0.2 in /usr/local/lib/python3.7/dist-packages (from requests->kaggle) (3.0.4)\n",
            "Requirement already satisfied: idna<3,>=2.5 in /usr/local/lib/python3.7/dist-packages (from requests->kaggle) (2.10)\n",
            "Downloading bysquare-chess-evaluations.zip to /content\n",
            " 94% 153M/163M [00:01<00:00, 126MB/s]\n",
            "100% 163M/163M [00:01<00:00, 127MB/s]\n",
            "Archive:  bysquare-chess-evaluations.zip\n",
            "  inflating: ReformattedChessDataset.csv  \n"
          ]
        }
      ],
      "source": [
        "! pip install kaggle\n",
        "! mkdir ~/.kaggle\n",
        "! cp /content/drive/MyDrive/kaggle.json ~/.kaggle/kaggle.json\n",
        "! chmod 600 ~/.kaggle/kaggle.json\n",
        "! kaggle datasets download swagnikroychoudhury/bysquare-chess-evaluations\n",
        "! unzip bysquare-chess-evaluations.zip"
      ]
    },
    {
      "cell_type": "markdown",
      "metadata": {
        "id": "95JXcdYXew7K"
      },
      "source": [
        "## Loading the Dataset\n",
        "\n",
        "Although the reformatted dataset has been optimized, numbers (float/int) are converted to the 64-bit version when the dataframe is converted to a .CSV file. In other words, most of the optimizations are gone. We need to chunk, downcast, and concatonate the dataset to re-optimize it.\n",
        "\n",
        "Most of the table values are of the data type INT8. Converting the dataframe into a .csv file converts the INT8 to INT64, thus taking up 8x more memory. This is okay for small datasets, but because this dataset is so big, Colab crashes with the INT64 datatype.\n",
        "\n",
        "*Runtime: Approximately 1 minute*"
      ]
    },
    {
      "cell_type": "code",
      "execution_count": null,
      "metadata": {
        "colab": {
          "base_uri": "https://localhost:8080/"
        },
        "id": "w1lwslWVj5yg",
        "outputId": "4b7a17cc-f24d-404c-b335-20016007c2e6"
      },
      "outputs": [
        {
          "name": "stdout",
          "output_type": "stream",
          "text": [
            "Processing Chunk 1\n",
            "Processing Chunk 2\n",
            "Processing Chunk 3\n",
            "Processing Chunk 4\n",
            "Processing Chunk 5\n",
            "Processing Chunk 6\n",
            "Processing Chunk 7\n",
            "Processing Chunk 8\n",
            "Processing Chunk 9\n",
            "Processing Chunk 10\n",
            "Processing Chunk 11\n",
            "Processing Chunk 12\n",
            "Processing Chunk 13\n",
            "Chunk Processing Complete\n"
          ]
        }
      ],
      "source": [
        "path = 'ReformattedChessDataset.csv' \n",
        "chunksize = 1000000\n",
        "data = pd.DataFrame()\n",
        "\n",
        "for count, chunk in enumerate(pd.read_csv(path, chunksize=chunksize)):\n",
        "  print(\"Processing Chunk \" + str(count + 1))\n",
        "  data = pd.concat([data, chunk.apply(pd.to_numeric,downcast='signed')]).select_dtypes(include=['int8', 'int16'])\n",
        "\n",
        "print(\"Chunk Processing Complete\")"
      ]
    },
    {
      "cell_type": "markdown",
      "metadata": {
        "id": "B1Y8ENEbtIWL"
      },
      "source": [
        "## Preparing the Dataset\n",
        "\n",
        "The following code generates a sample of the dataset to test different types of models. When the right model/network has been selected, the entire data set will be used to train the final model."
      ]
    },
    {
      "cell_type": "code",
      "execution_count": null,
      "metadata": {
        "id": "uL6LC1eWtFYP"
      },
      "outputs": [],
      "source": [
        "labels = []\n",
        "for i in range(1, 9):\n",
        "  for j in range(1, 9):\n",
        "    labels.append(chr(j + 96) + chr((8-i) + 49))\n",
        "\n",
        "sample = data.sample(n = 2000000)\n",
        "\n",
        "y = sample.Evaluation\n",
        "X = sample[labels]\n",
        "X_train, X_val, y_train, y_val = train_test_split(X, y, random_state = 0)"
      ]
    },
    {
      "cell_type": "markdown",
      "metadata": {
        "id": "f0klw4yWYogz"
      },
      "source": [
        "# Part 1: Regressional Machine Learning\n",
        "The next section uses various regressional models. While the models are not parametrically tuned, there is no point in doing so as it becomes apparent soon that regressional analysis does not work well, or at all. "
      ]
    },
    {
      "cell_type": "markdown",
      "metadata": {
        "id": "Ewr8FEl_Z6T8"
      },
      "source": [
        "### Linear Regression\n"
      ]
    },
    {
      "cell_type": "code",
      "execution_count": null,
      "metadata": {
        "colab": {
          "base_uri": "https://localhost:8080/"
        },
        "id": "WSp_-JujV3rg",
        "outputId": "eed94a14-dc4f-4821-d4a7-4c9432526869"
      },
      "outputs": [
        {
          "name": "stdout",
          "output_type": "stream",
          "text": [
            "Mean Absolute Error:  1129.7312063645802\n"
          ]
        }
      ],
      "source": [
        "linear_model = linear_model.LinearRegression()\n",
        "linear_model.fit(X_train, y_train)\n",
        "pred = linear_model.predict(X_val)\n",
        "print(\"Mean Absolute Error: \", mean_absolute_error(y_val, pred))"
      ]
    },
    {
      "cell_type": "code",
      "execution_count": null,
      "metadata": {
        "colab": {
          "base_uri": "https://localhost:8080/",
          "height": 300
        },
        "id": "LaalMYNla6CJ",
        "outputId": "f336f08b-0e91-48e9-959e-2c70fda5fb75"
      },
      "outputs": [
        {
          "data": {
            "text/html": [
              "\n",
              "  <div id=\"df-0d6b2d99-b210-4f13-a3f8-22da9dfeff23\">\n",
              "    <div class=\"colab-df-container\">\n",
              "      <div>\n",
              "<style scoped>\n",
              "    .dataframe tbody tr th:only-of-type {\n",
              "        vertical-align: middle;\n",
              "    }\n",
              "\n",
              "    .dataframe tbody tr th {\n",
              "        vertical-align: top;\n",
              "    }\n",
              "\n",
              "    .dataframe thead th {\n",
              "        text-align: right;\n",
              "    }\n",
              "</style>\n",
              "<table border=\"1\" class=\"dataframe\">\n",
              "  <thead>\n",
              "    <tr style=\"text-align: right;\">\n",
              "      <th></th>\n",
              "      <th>0</th>\n",
              "    </tr>\n",
              "  </thead>\n",
              "  <tbody>\n",
              "    <tr>\n",
              "      <th>count</th>\n",
              "      <td>250000.000000</td>\n",
              "    </tr>\n",
              "    <tr>\n",
              "      <th>mean</th>\n",
              "      <td>1129.731206</td>\n",
              "    </tr>\n",
              "    <tr>\n",
              "      <th>std</th>\n",
              "      <td>3777.202189</td>\n",
              "    </tr>\n",
              "    <tr>\n",
              "      <th>min</th>\n",
              "      <td>0.005231</td>\n",
              "    </tr>\n",
              "    <tr>\n",
              "      <th>25%</th>\n",
              "      <td>203.619112</td>\n",
              "    </tr>\n",
              "    <tr>\n",
              "      <th>50%</th>\n",
              "      <td>458.892826</td>\n",
              "    </tr>\n",
              "    <tr>\n",
              "      <th>75%</th>\n",
              "      <td>879.547302</td>\n",
              "    </tr>\n",
              "    <tr>\n",
              "      <th>max</th>\n",
              "      <td>36331.179984</td>\n",
              "    </tr>\n",
              "  </tbody>\n",
              "</table>\n",
              "</div>\n",
              "      <button class=\"colab-df-convert\" onclick=\"convertToInteractive('df-0d6b2d99-b210-4f13-a3f8-22da9dfeff23')\"\n",
              "              title=\"Convert this dataframe to an interactive table.\"\n",
              "              style=\"display:none;\">\n",
              "        \n",
              "  <svg xmlns=\"http://www.w3.org/2000/svg\" height=\"24px\"viewBox=\"0 0 24 24\"\n",
              "       width=\"24px\">\n",
              "    <path d=\"M0 0h24v24H0V0z\" fill=\"none\"/>\n",
              "    <path d=\"M18.56 5.44l.94 2.06.94-2.06 2.06-.94-2.06-.94-.94-2.06-.94 2.06-2.06.94zm-11 1L8.5 8.5l.94-2.06 2.06-.94-2.06-.94L8.5 2.5l-.94 2.06-2.06.94zm10 10l.94 2.06.94-2.06 2.06-.94-2.06-.94-.94-2.06-.94 2.06-2.06.94z\"/><path d=\"M17.41 7.96l-1.37-1.37c-.4-.4-.92-.59-1.43-.59-.52 0-1.04.2-1.43.59L10.3 9.45l-7.72 7.72c-.78.78-.78 2.05 0 2.83L4 21.41c.39.39.9.59 1.41.59.51 0 1.02-.2 1.41-.59l7.78-7.78 2.81-2.81c.8-.78.8-2.07 0-2.86zM5.41 20L4 18.59l7.72-7.72 1.47 1.35L5.41 20z\"/>\n",
              "  </svg>\n",
              "      </button>\n",
              "      \n",
              "  <style>\n",
              "    .colab-df-container {\n",
              "      display:flex;\n",
              "      flex-wrap:wrap;\n",
              "      gap: 12px;\n",
              "    }\n",
              "\n",
              "    .colab-df-convert {\n",
              "      background-color: #E8F0FE;\n",
              "      border: none;\n",
              "      border-radius: 50%;\n",
              "      cursor: pointer;\n",
              "      display: none;\n",
              "      fill: #1967D2;\n",
              "      height: 32px;\n",
              "      padding: 0 0 0 0;\n",
              "      width: 32px;\n",
              "    }\n",
              "\n",
              "    .colab-df-convert:hover {\n",
              "      background-color: #E2EBFA;\n",
              "      box-shadow: 0px 1px 2px rgba(60, 64, 67, 0.3), 0px 1px 3px 1px rgba(60, 64, 67, 0.15);\n",
              "      fill: #174EA6;\n",
              "    }\n",
              "\n",
              "    [theme=dark] .colab-df-convert {\n",
              "      background-color: #3B4455;\n",
              "      fill: #D2E3FC;\n",
              "    }\n",
              "\n",
              "    [theme=dark] .colab-df-convert:hover {\n",
              "      background-color: #434B5C;\n",
              "      box-shadow: 0px 1px 3px 1px rgba(0, 0, 0, 0.15);\n",
              "      filter: drop-shadow(0px 1px 2px rgba(0, 0, 0, 0.3));\n",
              "      fill: #FFFFFF;\n",
              "    }\n",
              "  </style>\n",
              "\n",
              "      <script>\n",
              "        const buttonEl =\n",
              "          document.querySelector('#df-0d6b2d99-b210-4f13-a3f8-22da9dfeff23 button.colab-df-convert');\n",
              "        buttonEl.style.display =\n",
              "          google.colab.kernel.accessAllowed ? 'block' : 'none';\n",
              "\n",
              "        async function convertToInteractive(key) {\n",
              "          const element = document.querySelector('#df-0d6b2d99-b210-4f13-a3f8-22da9dfeff23');\n",
              "          const dataTable =\n",
              "            await google.colab.kernel.invokeFunction('convertToInteractive',\n",
              "                                                     [key], {});\n",
              "          if (!dataTable) return;\n",
              "\n",
              "          const docLinkHtml = 'Like what you see? Visit the ' +\n",
              "            '<a target=\"_blank\" href=https://colab.research.google.com/notebooks/data_table.ipynb>data table notebook</a>'\n",
              "            + ' to learn more about interactive tables.';\n",
              "          element.innerHTML = '';\n",
              "          dataTable['output_type'] = 'display_data';\n",
              "          await google.colab.output.renderOutput(dataTable, element);\n",
              "          const docLink = document.createElement('div');\n",
              "          docLink.innerHTML = docLinkHtml;\n",
              "          element.appendChild(docLink);\n",
              "        }\n",
              "      </script>\n",
              "    </div>\n",
              "  </div>\n",
              "  "
            ],
            "text/plain": [
              "                   0\n",
              "count  250000.000000\n",
              "mean     1129.731206\n",
              "std      3777.202189\n",
              "min         0.005231\n",
              "25%       203.619112\n",
              "50%       458.892826\n",
              "75%       879.547302\n",
              "max     36331.179984"
            ]
          },
          "execution_count": 24,
          "metadata": {},
          "output_type": "execute_result"
        }
      ],
      "source": [
        "y_val_arr = y_val.to_numpy()\n",
        "error_statistics = pd.DataFrame(abs(pred - y_val_arr))\n",
        "error_statistics.describe()"
      ]
    },
    {
      "cell_type": "markdown",
      "metadata": {
        "id": "G3MeoeLxacNt"
      },
      "source": [
        "### Ridge Model"
      ]
    },
    {
      "cell_type": "code",
      "execution_count": null,
      "metadata": {
        "colab": {
          "base_uri": "https://localhost:8080/"
        },
        "id": "CaDfZVYXf8Ms",
        "outputId": "d6e66f27-eadd-4b3d-ea8a-dce58053f311"
      },
      "outputs": [
        {
          "name": "stdout",
          "output_type": "stream",
          "text": [
            "Mean Absolute Error:  1099.8443733035333\n"
          ]
        }
      ],
      "source": [
        "ridge_model = linear_model.Ridge()\n",
        "ridge_model.fit(X_train, y_train)\n",
        "pred = ridge_model.predict(X_val)\n",
        "print(\"Mean Absolute Error: \", mean_absolute_error(y_val, pred))"
      ]
    },
    {
      "cell_type": "code",
      "execution_count": null,
      "metadata": {
        "colab": {
          "base_uri": "https://localhost:8080/",
          "height": 300
        },
        "id": "S5U6kGo3a5Ys",
        "outputId": "d8f646ec-8f93-41ca-efb0-98aeb2e93856"
      },
      "outputs": [
        {
          "data": {
            "text/html": [
              "\n",
              "  <div id=\"df-eaf05dd0-d099-4d06-b0a2-bfe707001cb3\">\n",
              "    <div class=\"colab-df-container\">\n",
              "      <div>\n",
              "<style scoped>\n",
              "    .dataframe tbody tr th:only-of-type {\n",
              "        vertical-align: middle;\n",
              "    }\n",
              "\n",
              "    .dataframe tbody tr th {\n",
              "        vertical-align: top;\n",
              "    }\n",
              "\n",
              "    .dataframe thead th {\n",
              "        text-align: right;\n",
              "    }\n",
              "</style>\n",
              "<table border=\"1\" class=\"dataframe\">\n",
              "  <thead>\n",
              "    <tr style=\"text-align: right;\">\n",
              "      <th></th>\n",
              "      <th>0</th>\n",
              "    </tr>\n",
              "  </thead>\n",
              "  <tbody>\n",
              "    <tr>\n",
              "      <th>count</th>\n",
              "      <td>250000.000000</td>\n",
              "    </tr>\n",
              "    <tr>\n",
              "      <th>mean</th>\n",
              "      <td>1099.844373</td>\n",
              "    </tr>\n",
              "    <tr>\n",
              "      <th>std</th>\n",
              "      <td>3713.113814</td>\n",
              "    </tr>\n",
              "    <tr>\n",
              "      <th>min</th>\n",
              "      <td>0.003003</td>\n",
              "    </tr>\n",
              "    <tr>\n",
              "      <th>25%</th>\n",
              "      <td>199.742152</td>\n",
              "    </tr>\n",
              "    <tr>\n",
              "      <th>50%</th>\n",
              "      <td>447.053868</td>\n",
              "    </tr>\n",
              "    <tr>\n",
              "      <th>75%</th>\n",
              "      <td>855.979286</td>\n",
              "    </tr>\n",
              "    <tr>\n",
              "      <th>max</th>\n",
              "      <td>36671.500247</td>\n",
              "    </tr>\n",
              "  </tbody>\n",
              "</table>\n",
              "</div>\n",
              "      <button class=\"colab-df-convert\" onclick=\"convertToInteractive('df-eaf05dd0-d099-4d06-b0a2-bfe707001cb3')\"\n",
              "              title=\"Convert this dataframe to an interactive table.\"\n",
              "              style=\"display:none;\">\n",
              "        \n",
              "  <svg xmlns=\"http://www.w3.org/2000/svg\" height=\"24px\"viewBox=\"0 0 24 24\"\n",
              "       width=\"24px\">\n",
              "    <path d=\"M0 0h24v24H0V0z\" fill=\"none\"/>\n",
              "    <path d=\"M18.56 5.44l.94 2.06.94-2.06 2.06-.94-2.06-.94-.94-2.06-.94 2.06-2.06.94zm-11 1L8.5 8.5l.94-2.06 2.06-.94-2.06-.94L8.5 2.5l-.94 2.06-2.06.94zm10 10l.94 2.06.94-2.06 2.06-.94-2.06-.94-.94-2.06-.94 2.06-2.06.94z\"/><path d=\"M17.41 7.96l-1.37-1.37c-.4-.4-.92-.59-1.43-.59-.52 0-1.04.2-1.43.59L10.3 9.45l-7.72 7.72c-.78.78-.78 2.05 0 2.83L4 21.41c.39.39.9.59 1.41.59.51 0 1.02-.2 1.41-.59l7.78-7.78 2.81-2.81c.8-.78.8-2.07 0-2.86zM5.41 20L4 18.59l7.72-7.72 1.47 1.35L5.41 20z\"/>\n",
              "  </svg>\n",
              "      </button>\n",
              "      \n",
              "  <style>\n",
              "    .colab-df-container {\n",
              "      display:flex;\n",
              "      flex-wrap:wrap;\n",
              "      gap: 12px;\n",
              "    }\n",
              "\n",
              "    .colab-df-convert {\n",
              "      background-color: #E8F0FE;\n",
              "      border: none;\n",
              "      border-radius: 50%;\n",
              "      cursor: pointer;\n",
              "      display: none;\n",
              "      fill: #1967D2;\n",
              "      height: 32px;\n",
              "      padding: 0 0 0 0;\n",
              "      width: 32px;\n",
              "    }\n",
              "\n",
              "    .colab-df-convert:hover {\n",
              "      background-color: #E2EBFA;\n",
              "      box-shadow: 0px 1px 2px rgba(60, 64, 67, 0.3), 0px 1px 3px 1px rgba(60, 64, 67, 0.15);\n",
              "      fill: #174EA6;\n",
              "    }\n",
              "\n",
              "    [theme=dark] .colab-df-convert {\n",
              "      background-color: #3B4455;\n",
              "      fill: #D2E3FC;\n",
              "    }\n",
              "\n",
              "    [theme=dark] .colab-df-convert:hover {\n",
              "      background-color: #434B5C;\n",
              "      box-shadow: 0px 1px 3px 1px rgba(0, 0, 0, 0.15);\n",
              "      filter: drop-shadow(0px 1px 2px rgba(0, 0, 0, 0.3));\n",
              "      fill: #FFFFFF;\n",
              "    }\n",
              "  </style>\n",
              "\n",
              "      <script>\n",
              "        const buttonEl =\n",
              "          document.querySelector('#df-eaf05dd0-d099-4d06-b0a2-bfe707001cb3 button.colab-df-convert');\n",
              "        buttonEl.style.display =\n",
              "          google.colab.kernel.accessAllowed ? 'block' : 'none';\n",
              "\n",
              "        async function convertToInteractive(key) {\n",
              "          const element = document.querySelector('#df-eaf05dd0-d099-4d06-b0a2-bfe707001cb3');\n",
              "          const dataTable =\n",
              "            await google.colab.kernel.invokeFunction('convertToInteractive',\n",
              "                                                     [key], {});\n",
              "          if (!dataTable) return;\n",
              "\n",
              "          const docLinkHtml = 'Like what you see? Visit the ' +\n",
              "            '<a target=\"_blank\" href=https://colab.research.google.com/notebooks/data_table.ipynb>data table notebook</a>'\n",
              "            + ' to learn more about interactive tables.';\n",
              "          element.innerHTML = '';\n",
              "          dataTable['output_type'] = 'display_data';\n",
              "          await google.colab.output.renderOutput(dataTable, element);\n",
              "          const docLink = document.createElement('div');\n",
              "          docLink.innerHTML = docLinkHtml;\n",
              "          element.appendChild(docLink);\n",
              "        }\n",
              "      </script>\n",
              "    </div>\n",
              "  </div>\n",
              "  "
            ],
            "text/plain": [
              "                   0\n",
              "count  250000.000000\n",
              "mean     1099.844373\n",
              "std      3713.113814\n",
              "min         0.003003\n",
              "25%       199.742152\n",
              "50%       447.053868\n",
              "75%       855.979286\n",
              "max     36671.500247"
            ]
          },
          "execution_count": 30,
          "metadata": {},
          "output_type": "execute_result"
        }
      ],
      "source": [
        "y_val_arr = y_val.to_numpy()\n",
        "error_statistics = pd.DataFrame(abs(pred - y_val_arr))\n",
        "error_statistics.describe()"
      ]
    },
    {
      "cell_type": "markdown",
      "metadata": {
        "id": "kMyRgLsXafn8"
      },
      "source": [
        "### Random Forest Regression"
      ]
    },
    {
      "cell_type": "code",
      "execution_count": null,
      "metadata": {
        "colab": {
          "base_uri": "https://localhost:8080/"
        },
        "id": "HdziOlmlw_TM",
        "outputId": "68449b9e-57ca-424c-87ca-f1977361c141"
      },
      "outputs": [
        {
          "name": "stdout",
          "output_type": "stream",
          "text": [
            "Mean Absolute Error:  795.9841577381966\n"
          ]
        }
      ],
      "source": [
        "forest_model = RandomForestRegressor(max_leaf_nodes=2, n_estimators=1, random_state=1)\n",
        "forest_model.fit(X_train, y_train)\n",
        "pred = forest_model.predict(X_val)\n",
        "print(\"Mean Absolute Error: \", mean_absolute_error(y_val, pred))"
      ]
    },
    {
      "cell_type": "code",
      "execution_count": null,
      "metadata": {
        "colab": {
          "base_uri": "https://localhost:8080/",
          "height": 300
        },
        "id": "NgYECN6qa4tq",
        "outputId": "6e437ad6-f761-45a0-ffb3-ed5ef9e9b99d"
      },
      "outputs": [
        {
          "data": {
            "text/html": [
              "\n",
              "  <div id=\"df-2a821849-0495-4017-927f-bbcd328ea82a\">\n",
              "    <div class=\"colab-df-container\">\n",
              "      <div>\n",
              "<style scoped>\n",
              "    .dataframe tbody tr th:only-of-type {\n",
              "        vertical-align: middle;\n",
              "    }\n",
              "\n",
              "    .dataframe tbody tr th {\n",
              "        vertical-align: top;\n",
              "    }\n",
              "\n",
              "    .dataframe thead th {\n",
              "        text-align: right;\n",
              "    }\n",
              "</style>\n",
              "<table border=\"1\" class=\"dataframe\">\n",
              "  <thead>\n",
              "    <tr style=\"text-align: right;\">\n",
              "      <th></th>\n",
              "      <th>0</th>\n",
              "    </tr>\n",
              "  </thead>\n",
              "  <tbody>\n",
              "    <tr>\n",
              "      <th>count</th>\n",
              "      <td>250000.000000</td>\n",
              "    </tr>\n",
              "    <tr>\n",
              "      <th>mean</th>\n",
              "      <td>798.419547</td>\n",
              "    </tr>\n",
              "    <tr>\n",
              "      <th>std</th>\n",
              "      <td>3862.555332</td>\n",
              "    </tr>\n",
              "    <tr>\n",
              "      <th>min</th>\n",
              "      <td>0.165694</td>\n",
              "    </tr>\n",
              "    <tr>\n",
              "      <th>25%</th>\n",
              "      <td>63.165694</td>\n",
              "    </tr>\n",
              "    <tr>\n",
              "      <th>50%</th>\n",
              "      <td>122.834306</td>\n",
              "    </tr>\n",
              "    <tr>\n",
              "      <th>75%</th>\n",
              "      <td>316.165694</td>\n",
              "    </tr>\n",
              "    <tr>\n",
              "      <th>max</th>\n",
              "      <td>33668.823388</td>\n",
              "    </tr>\n",
              "  </tbody>\n",
              "</table>\n",
              "</div>\n",
              "      <button class=\"colab-df-convert\" onclick=\"convertToInteractive('df-2a821849-0495-4017-927f-bbcd328ea82a')\"\n",
              "              title=\"Convert this dataframe to an interactive table.\"\n",
              "              style=\"display:none;\">\n",
              "        \n",
              "  <svg xmlns=\"http://www.w3.org/2000/svg\" height=\"24px\"viewBox=\"0 0 24 24\"\n",
              "       width=\"24px\">\n",
              "    <path d=\"M0 0h24v24H0V0z\" fill=\"none\"/>\n",
              "    <path d=\"M18.56 5.44l.94 2.06.94-2.06 2.06-.94-2.06-.94-.94-2.06-.94 2.06-2.06.94zm-11 1L8.5 8.5l.94-2.06 2.06-.94-2.06-.94L8.5 2.5l-.94 2.06-2.06.94zm10 10l.94 2.06.94-2.06 2.06-.94-2.06-.94-.94-2.06-.94 2.06-2.06.94z\"/><path d=\"M17.41 7.96l-1.37-1.37c-.4-.4-.92-.59-1.43-.59-.52 0-1.04.2-1.43.59L10.3 9.45l-7.72 7.72c-.78.78-.78 2.05 0 2.83L4 21.41c.39.39.9.59 1.41.59.51 0 1.02-.2 1.41-.59l7.78-7.78 2.81-2.81c.8-.78.8-2.07 0-2.86zM5.41 20L4 18.59l7.72-7.72 1.47 1.35L5.41 20z\"/>\n",
              "  </svg>\n",
              "      </button>\n",
              "      \n",
              "  <style>\n",
              "    .colab-df-container {\n",
              "      display:flex;\n",
              "      flex-wrap:wrap;\n",
              "      gap: 12px;\n",
              "    }\n",
              "\n",
              "    .colab-df-convert {\n",
              "      background-color: #E8F0FE;\n",
              "      border: none;\n",
              "      border-radius: 50%;\n",
              "      cursor: pointer;\n",
              "      display: none;\n",
              "      fill: #1967D2;\n",
              "      height: 32px;\n",
              "      padding: 0 0 0 0;\n",
              "      width: 32px;\n",
              "    }\n",
              "\n",
              "    .colab-df-convert:hover {\n",
              "      background-color: #E2EBFA;\n",
              "      box-shadow: 0px 1px 2px rgba(60, 64, 67, 0.3), 0px 1px 3px 1px rgba(60, 64, 67, 0.15);\n",
              "      fill: #174EA6;\n",
              "    }\n",
              "\n",
              "    [theme=dark] .colab-df-convert {\n",
              "      background-color: #3B4455;\n",
              "      fill: #D2E3FC;\n",
              "    }\n",
              "\n",
              "    [theme=dark] .colab-df-convert:hover {\n",
              "      background-color: #434B5C;\n",
              "      box-shadow: 0px 1px 3px 1px rgba(0, 0, 0, 0.15);\n",
              "      filter: drop-shadow(0px 1px 2px rgba(0, 0, 0, 0.3));\n",
              "      fill: #FFFFFF;\n",
              "    }\n",
              "  </style>\n",
              "\n",
              "      <script>\n",
              "        const buttonEl =\n",
              "          document.querySelector('#df-2a821849-0495-4017-927f-bbcd328ea82a button.colab-df-convert');\n",
              "        buttonEl.style.display =\n",
              "          google.colab.kernel.accessAllowed ? 'block' : 'none';\n",
              "\n",
              "        async function convertToInteractive(key) {\n",
              "          const element = document.querySelector('#df-2a821849-0495-4017-927f-bbcd328ea82a');\n",
              "          const dataTable =\n",
              "            await google.colab.kernel.invokeFunction('convertToInteractive',\n",
              "                                                     [key], {});\n",
              "          if (!dataTable) return;\n",
              "\n",
              "          const docLinkHtml = 'Like what you see? Visit the ' +\n",
              "            '<a target=\"_blank\" href=https://colab.research.google.com/notebooks/data_table.ipynb>data table notebook</a>'\n",
              "            + ' to learn more about interactive tables.';\n",
              "          element.innerHTML = '';\n",
              "          dataTable['output_type'] = 'display_data';\n",
              "          await google.colab.output.renderOutput(dataTable, element);\n",
              "          const docLink = document.createElement('div');\n",
              "          docLink.innerHTML = docLinkHtml;\n",
              "          element.appendChild(docLink);\n",
              "        }\n",
              "      </script>\n",
              "    </div>\n",
              "  </div>\n",
              "  "
            ],
            "text/plain": [
              "                   0\n",
              "count  250000.000000\n",
              "mean      798.419547\n",
              "std      3862.555332\n",
              "min         0.165694\n",
              "25%        63.165694\n",
              "50%       122.834306\n",
              "75%       316.165694\n",
              "max     33668.823388"
            ]
          },
          "execution_count": 7,
          "metadata": {},
          "output_type": "execute_result"
        }
      ],
      "source": [
        "y_val_arr = y_val.to_numpy()\n",
        "error_statistics = pd.DataFrame(abs(pred - y_val_arr))\n",
        "error_statistics.describe()"
      ]
    },
    {
      "cell_type": "markdown",
      "metadata": {
        "id": "3mFaK71Eah8X"
      },
      "source": [
        "### XGBoost"
      ]
    },
    {
      "cell_type": "code",
      "execution_count": null,
      "metadata": {
        "colab": {
          "base_uri": "https://localhost:8080/"
        },
        "id": "HzpUmRWchaVN",
        "outputId": "c2e0e89b-68dd-455d-dcc2-e5c06d86e5ad"
      },
      "outputs": [
        {
          "name": "stdout",
          "output_type": "stream",
          "text": [
            "Mean Absolute Error:  837.26324\n"
          ]
        }
      ],
      "source": [
        "xgb_model = xgb.XGBRegressor(objective='reg:squarederror')\n",
        "xgb_model.fit(X_train, y_train)\n",
        "pred = xgb_model.predict(X_val)\n",
        "print(\"Mean Absolute Error: \", mean_absolute_error(y_val, pred))"
      ]
    },
    {
      "cell_type": "code",
      "execution_count": null,
      "metadata": {
        "colab": {
          "base_uri": "https://localhost:8080/",
          "height": 300
        },
        "id": "JhFCr-MeyFBf",
        "outputId": "3ceb5bb9-104d-4b19-efd5-87537acfac79"
      },
      "outputs": [
        {
          "data": {
            "text/html": [
              "\n",
              "  <div id=\"df-7e9cf2d3-3934-4bd3-b60b-0a6ada4df50a\">\n",
              "    <div class=\"colab-df-container\">\n",
              "      <div>\n",
              "<style scoped>\n",
              "    .dataframe tbody tr th:only-of-type {\n",
              "        vertical-align: middle;\n",
              "    }\n",
              "\n",
              "    .dataframe tbody tr th {\n",
              "        vertical-align: top;\n",
              "    }\n",
              "\n",
              "    .dataframe thead th {\n",
              "        text-align: right;\n",
              "    }\n",
              "</style>\n",
              "<table border=\"1\" class=\"dataframe\">\n",
              "  <thead>\n",
              "    <tr style=\"text-align: right;\">\n",
              "      <th></th>\n",
              "      <th>0</th>\n",
              "    </tr>\n",
              "  </thead>\n",
              "  <tbody>\n",
              "    <tr>\n",
              "      <th>count</th>\n",
              "      <td>250000.000000</td>\n",
              "    </tr>\n",
              "    <tr>\n",
              "      <th>mean</th>\n",
              "      <td>837.254761</td>\n",
              "    </tr>\n",
              "    <tr>\n",
              "      <th>std</th>\n",
              "      <td>3760.269775</td>\n",
              "    </tr>\n",
              "    <tr>\n",
              "      <th>min</th>\n",
              "      <td>0.000954</td>\n",
              "    </tr>\n",
              "    <tr>\n",
              "      <th>25%</th>\n",
              "      <td>59.134232</td>\n",
              "    </tr>\n",
              "    <tr>\n",
              "      <th>50%</th>\n",
              "      <td>159.506027</td>\n",
              "    </tr>\n",
              "    <tr>\n",
              "      <th>75%</th>\n",
              "      <td>440.687271</td>\n",
              "    </tr>\n",
              "    <tr>\n",
              "      <th>max</th>\n",
              "      <td>36464.964844</td>\n",
              "    </tr>\n",
              "  </tbody>\n",
              "</table>\n",
              "</div>\n",
              "      <button class=\"colab-df-convert\" onclick=\"convertToInteractive('df-7e9cf2d3-3934-4bd3-b60b-0a6ada4df50a')\"\n",
              "              title=\"Convert this dataframe to an interactive table.\"\n",
              "              style=\"display:none;\">\n",
              "        \n",
              "  <svg xmlns=\"http://www.w3.org/2000/svg\" height=\"24px\"viewBox=\"0 0 24 24\"\n",
              "       width=\"24px\">\n",
              "    <path d=\"M0 0h24v24H0V0z\" fill=\"none\"/>\n",
              "    <path d=\"M18.56 5.44l.94 2.06.94-2.06 2.06-.94-2.06-.94-.94-2.06-.94 2.06-2.06.94zm-11 1L8.5 8.5l.94-2.06 2.06-.94-2.06-.94L8.5 2.5l-.94 2.06-2.06.94zm10 10l.94 2.06.94-2.06 2.06-.94-2.06-.94-.94-2.06-.94 2.06-2.06.94z\"/><path d=\"M17.41 7.96l-1.37-1.37c-.4-.4-.92-.59-1.43-.59-.52 0-1.04.2-1.43.59L10.3 9.45l-7.72 7.72c-.78.78-.78 2.05 0 2.83L4 21.41c.39.39.9.59 1.41.59.51 0 1.02-.2 1.41-.59l7.78-7.78 2.81-2.81c.8-.78.8-2.07 0-2.86zM5.41 20L4 18.59l7.72-7.72 1.47 1.35L5.41 20z\"/>\n",
              "  </svg>\n",
              "      </button>\n",
              "      \n",
              "  <style>\n",
              "    .colab-df-container {\n",
              "      display:flex;\n",
              "      flex-wrap:wrap;\n",
              "      gap: 12px;\n",
              "    }\n",
              "\n",
              "    .colab-df-convert {\n",
              "      background-color: #E8F0FE;\n",
              "      border: none;\n",
              "      border-radius: 50%;\n",
              "      cursor: pointer;\n",
              "      display: none;\n",
              "      fill: #1967D2;\n",
              "      height: 32px;\n",
              "      padding: 0 0 0 0;\n",
              "      width: 32px;\n",
              "    }\n",
              "\n",
              "    .colab-df-convert:hover {\n",
              "      background-color: #E2EBFA;\n",
              "      box-shadow: 0px 1px 2px rgba(60, 64, 67, 0.3), 0px 1px 3px 1px rgba(60, 64, 67, 0.15);\n",
              "      fill: #174EA6;\n",
              "    }\n",
              "\n",
              "    [theme=dark] .colab-df-convert {\n",
              "      background-color: #3B4455;\n",
              "      fill: #D2E3FC;\n",
              "    }\n",
              "\n",
              "    [theme=dark] .colab-df-convert:hover {\n",
              "      background-color: #434B5C;\n",
              "      box-shadow: 0px 1px 3px 1px rgba(0, 0, 0, 0.15);\n",
              "      filter: drop-shadow(0px 1px 2px rgba(0, 0, 0, 0.3));\n",
              "      fill: #FFFFFF;\n",
              "    }\n",
              "  </style>\n",
              "\n",
              "      <script>\n",
              "        const buttonEl =\n",
              "          document.querySelector('#df-7e9cf2d3-3934-4bd3-b60b-0a6ada4df50a button.colab-df-convert');\n",
              "        buttonEl.style.display =\n",
              "          google.colab.kernel.accessAllowed ? 'block' : 'none';\n",
              "\n",
              "        async function convertToInteractive(key) {\n",
              "          const element = document.querySelector('#df-7e9cf2d3-3934-4bd3-b60b-0a6ada4df50a');\n",
              "          const dataTable =\n",
              "            await google.colab.kernel.invokeFunction('convertToInteractive',\n",
              "                                                     [key], {});\n",
              "          if (!dataTable) return;\n",
              "\n",
              "          const docLinkHtml = 'Like what you see? Visit the ' +\n",
              "            '<a target=\"_blank\" href=https://colab.research.google.com/notebooks/data_table.ipynb>data table notebook</a>'\n",
              "            + ' to learn more about interactive tables.';\n",
              "          element.innerHTML = '';\n",
              "          dataTable['output_type'] = 'display_data';\n",
              "          await google.colab.output.renderOutput(dataTable, element);\n",
              "          const docLink = document.createElement('div');\n",
              "          docLink.innerHTML = docLinkHtml;\n",
              "          element.appendChild(docLink);\n",
              "        }\n",
              "      </script>\n",
              "    </div>\n",
              "  </div>\n",
              "  "
            ],
            "text/plain": [
              "                   0\n",
              "count  250000.000000\n",
              "mean      837.254761\n",
              "std      3760.269775\n",
              "min         0.000954\n",
              "25%        59.134232\n",
              "50%       159.506027\n",
              "75%       440.687271\n",
              "max     36464.964844"
            ]
          },
          "execution_count": 42,
          "metadata": {},
          "output_type": "execute_result"
        }
      ],
      "source": [
        "y_val_arr = y_val.to_numpy()\n",
        "error_statistics = pd.DataFrame(abs(pred - y_val_arr))\n",
        "error_statistics.describe()"
      ]
    },
    {
      "cell_type": "markdown",
      "metadata": {
        "id": "kMA9EjKbrBAE"
      },
      "source": [
        "# Part 2: Deep Learning\n",
        "Since standard regressional models did not work, we turn to deep learning.\n",
        "\n",
        "There are different types and subtypes of Neural Networks. In our case, it makes the most sense to use a Feed-Forward Network (FFN). There are different types of FFNs, but for our first experiment we will try Multilayer Perceptron (MLP)."
      ]
    },
    {
      "cell_type": "code",
      "execution_count": null,
      "metadata": {
        "colab": {
          "background_save": true,
          "base_uri": "https://localhost:8080/",
          "height": 644
        },
        "id": "8aE-sl3YrNJy",
        "outputId": "472c3801-b7b9-4198-924c-0af64272a2bc"
      },
      "outputs": [
        {
          "data": {
            "image/png": "[encoded data removed]",
            "text/plain": [
              "<IPython.core.display.Image object>"
            ]
          },
          "execution_count": null,
          "metadata": {},
          "output_type": "execute_result"
        }
      ],
      "source": [
        "mlp_model = keras.Sequential(\n",
        "    [\n",
        "        layers.Dense(64, input_dim=64, activation=\"relu\"),\n",
        "        layers.Dense(32, activation=\"relu\"),\n",
        "        layers.Dense(32, activation=\"relu\"),\n",
        "        layers.Dense(16, activation=\"relu\"),\n",
        "        #layers.Dropout(0.2),\n",
        "        #layers.Dense(128, activation=\"relu\"),\n",
        "        layers.Dense(1, name=\"Layer4\")\n",
        "    ]\n",
        ") \n",
        "\n",
        "\n",
        "mlp_model.compile(loss=\"mse\", optimizer=\"adam\", metrics=[MeanAbsoluteError()])\n",
        "\n",
        "K.set_value(mlp_model.optimizer.learning_rate, 0.0001)\n",
        "\n",
        "plot_model(mlp_model, show_shapes=True, show_layer_names=True)"
      ]
    },
    {
      "cell_type": "code",
      "execution_count": null,
      "metadata": {
        "colab": {
          "background_save": true,
          "base_uri": "https://localhost:8080/"
        },
        "id": "T29Why565GI8",
        "outputId": "138f3e6e-e38d-4a4e-bca5-34739633d033"
      },
      "outputs": [
        {
          "name": "stdout",
          "output_type": "stream",
          "text": [
            "Epoch 1/20\n",
            "1500/1500 - 11s - loss: 14392901.0000 - mean_absolute_error: 1016.6736 - val_loss: 13468813.0000 - val_mean_absolute_error: 1076.1857 - 11s/epoch - 7ms/step\n",
            "Epoch 2/20\n",
            "1500/1500 - 6s - loss: 13415393.0000 - mean_absolute_error: 1020.3499 - val_loss: 13307756.0000 - val_mean_absolute_error: 1008.7700 - 6s/epoch - 4ms/step\n",
            "Epoch 3/20\n",
            "1500/1500 - 6s - loss: 13295410.0000 - mean_absolute_error: 1008.6697 - val_loss: 13251001.0000 - val_mean_absolute_error: 992.1784 - 6s/epoch - 4ms/step\n",
            "Epoch 4/20\n",
            "1500/1500 - 7s - loss: 13238100.0000 - mean_absolute_error: 1003.7100 - val_loss: 13221125.0000 - val_mean_absolute_error: 1000.7441 - 7s/epoch - 4ms/step\n",
            "Epoch 5/20\n",
            "1500/1500 - 7s - loss: 13202144.0000 - mean_absolute_error: 1003.8914 - val_loss: 13234841.0000 - val_mean_absolute_error: 995.8565 - 7s/epoch - 5ms/step\n",
            "Epoch 6/20\n",
            "1500/1500 - 7s - loss: 13173424.0000 - mean_absolute_error: 1001.8900 - val_loss: 13200073.0000 - val_mean_absolute_error: 986.1799 - 7s/epoch - 5ms/step\n",
            "Epoch 7/20\n",
            "1500/1500 - 7s - loss: 13147324.0000 - mean_absolute_error: 1000.6481 - val_loss: 13175012.0000 - val_mean_absolute_error: 1014.8917 - 7s/epoch - 4ms/step\n",
            "Epoch 8/20\n",
            "1500/1500 - 6s - loss: 13110228.0000 - mean_absolute_error: 996.7140 - val_loss: 13130780.0000 - val_mean_absolute_error: 993.3058 - 6s/epoch - 4ms/step\n",
            "Epoch 9/20\n",
            "1500/1500 - 6s - loss: 13044705.0000 - mean_absolute_error: 989.8615 - val_loss: 13054482.0000 - val_mean_absolute_error: 962.0427 - 6s/epoch - 4ms/step\n",
            "Epoch 10/20\n",
            "1500/1500 - 7s - loss: 12972322.0000 - mean_absolute_error: 980.3522 - val_loss: 12988069.0000 - val_mean_absolute_error: 952.2650 - 7s/epoch - 5ms/step\n",
            "Epoch 11/20\n",
            "1500/1500 - 7s - loss: 12913869.0000 - mean_absolute_error: 969.5944 - val_loss: 12947376.0000 - val_mean_absolute_error: 955.2748 - 7s/epoch - 5ms/step\n",
            "Epoch 12/20\n",
            "1500/1500 - 7s - loss: 12878218.0000 - mean_absolute_error: 963.7922 - val_loss: 12927827.0000 - val_mean_absolute_error: 993.4011 - 7s/epoch - 4ms/step\n",
            "Epoch 13/20\n",
            "1500/1500 - 6s - loss: 12848758.0000 - mean_absolute_error: 961.7872 - val_loss: 12904030.0000 - val_mean_absolute_error: 978.3919 - 6s/epoch - 4ms/step\n",
            "Epoch 14/20\n",
            "1500/1500 - 6s - loss: 12830767.0000 - mean_absolute_error: 960.0276 - val_loss: 12911908.0000 - val_mean_absolute_error: 979.5098 - 6s/epoch - 4ms/step\n",
            "Epoch 15/20\n",
            "1500/1500 - 7s - loss: 12819198.0000 - mean_absolute_error: 959.5610 - val_loss: 12896693.0000 - val_mean_absolute_error: 953.0731 - 7s/epoch - 5ms/step\n",
            "Epoch 16/20\n",
            "1500/1500 - 6s - loss: 12806610.0000 - mean_absolute_error: 958.4226 - val_loss: 12878200.0000 - val_mean_absolute_error: 953.1802 - 6s/epoch - 4ms/step\n",
            "Epoch 17/20\n",
            "1500/1500 - 6s - loss: 12800006.0000 - mean_absolute_error: 958.3962 - val_loss: 12870929.0000 - val_mean_absolute_error: 964.4813 - 6s/epoch - 4ms/step\n",
            "Epoch 18/20\n",
            "1500/1500 - 6s - loss: 12786715.0000 - mean_absolute_error: 959.1906 - val_loss: 12885914.0000 - val_mean_absolute_error: 967.1584 - 6s/epoch - 4ms/step\n",
            "Epoch 19/20\n",
            "1500/1500 - 7s - loss: 12782290.0000 - mean_absolute_error: 958.4427 - val_loss: 12882608.0000 - val_mean_absolute_error: 936.2764 - 7s/epoch - 5ms/step\n",
            "Epoch 20/20\n",
            "1500/1500 - 7s - loss: 12774086.0000 - mean_absolute_error: 960.3792 - val_loss: 12897221.0000 - val_mean_absolute_error: 976.6749 - 7s/epoch - 4ms/step\n"
          ]
        },
        {
          "data": {
            "text/plain": [
              "<keras.callbacks.History at 0x7ff7bfee0190>"
            ]
          },
          "execution_count": null,
          "metadata": {},
          "output_type": "execute_result"
        }
      ],
      "source": [
        "mlp_model.fit(X_train, y_train, epochs=150, batch_size=1000, verbose=2, validation_data=(X_val, y_val))"
      ]
    },
    {
      "cell_type": "code",
      "execution_count": null,
      "metadata": {
        "colab": {
          "base_uri": "https://localhost:8080/",
          "height": 234
        },
        "id": "U0NHG7oLSuzk",
        "outputId": "f2d7bb44-e15e-4775-b78b-0eee3528ec38"
      },
      "outputs": [
        {
          "ename": "TypeError",
          "evalue": "ignored",
          "output_type": "error",
          "traceback": [
            "\u001b[0;31m---------------------------------------------------------------------------\u001b[0m",
            "\u001b[0;31mTypeError\u001b[0m                                 Traceback (most recent call last)",
            "\u001b[0;32m<ipython-input-12-791512752e8e>\u001b[0m in \u001b[0;36m<module>\u001b[0;34m()\u001b[0m\n\u001b[1;32m      1\u001b[0m \u001b[0;31m#print(mlp_model.history)\u001b[0m\u001b[0;34m\u001b[0m\u001b[0;34m\u001b[0m\u001b[0;34m\u001b[0m\u001b[0m\n\u001b[1;32m      2\u001b[0m \u001b[0;34m\u001b[0m\u001b[0m\n\u001b[0;32m----> 3\u001b[0;31m \u001b[0mplt\u001b[0m\u001b[0;34m.\u001b[0m\u001b[0mplot\u001b[0m\u001b[0;34m(\u001b[0m\u001b[0mmlp_model\u001b[0m\u001b[0;34m.\u001b[0m\u001b[0mhistory\u001b[0m\u001b[0;34m[\u001b[0m\u001b[0;34m'acc'\u001b[0m\u001b[0;34m]\u001b[0m\u001b[0;34m)\u001b[0m\u001b[0;34m\u001b[0m\u001b[0;34m\u001b[0m\u001b[0m\n\u001b[0m\u001b[1;32m      4\u001b[0m \u001b[0mplt\u001b[0m\u001b[0;34m.\u001b[0m\u001b[0mplot\u001b[0m\u001b[0;34m(\u001b[0m\u001b[0mmlp_model\u001b[0m\u001b[0;34m.\u001b[0m\u001b[0mhistory\u001b[0m\u001b[0;34m[\u001b[0m\u001b[0;34m'val_acc'\u001b[0m\u001b[0;34m]\u001b[0m\u001b[0;34m)\u001b[0m\u001b[0;34m\u001b[0m\u001b[0;34m\u001b[0m\u001b[0m\n\u001b[1;32m      5\u001b[0m \u001b[0mplt\u001b[0m\u001b[0;34m.\u001b[0m\u001b[0mtitle\u001b[0m\u001b[0;34m(\u001b[0m\u001b[0;34m'model accuracy'\u001b[0m\u001b[0;34m)\u001b[0m\u001b[0;34m\u001b[0m\u001b[0;34m\u001b[0m\u001b[0m\n",
            "\u001b[0;31mTypeError\u001b[0m: 'History' object is not subscriptable"
          ]
        }
      ],
      "source": [
        "#print(mlp_model.history)\n",
        "\n",
        "plt.plot(mlp_model.history['acc'])\n",
        "plt.plot(mlp_model.history['val_acc'])\n",
        "plt.title('model accuracy')\n",
        "plt.ylabel('accuracy')\n",
        "plt.xlabel('epoch')\n",
        "plt.legend(['train', 'val'], loc='upper left')\n",
        "plt.show()"
      ]
    },
    {
      "cell_type": "markdown",
      "metadata": {
        "id": "Jvjq5bJUYbbC"
      },
      "source": [
        "# The Chess Board\n",
        "\n",
        "The following section is a way to interact with the chess evaluator."
      ]
    },
    {
      "cell_type": "code",
      "execution_count": null,
      "metadata": {
        "id": "lZyTcKWO48cx"
      },
      "outputs": [],
      "source": [
        "board = chess.Board()\n",
        "\n",
        "def parsePiece(piece):\n",
        "  return {\n",
        "        'P': 1,\n",
        "        'N': 2,\n",
        "        'B': 3,\n",
        "        'R': 4,\n",
        "        'Q': 5,\n",
        "        'K': 6,\n",
        "        'p': -1,\n",
        "        'n': -2,\n",
        "        'b': -3,\n",
        "        'r': -4,\n",
        "        'q': -5,\n",
        "        'k': -6,\n",
        "    }[piece]\n",
        "\n",
        "def parseFEN(FEN):\n",
        "  FENIndex = 0\n",
        "  parsed = np.empty([1, 64])\n",
        "  for char in FEN:\n",
        "    if char.isalpha():\n",
        "      parsed[0][FENIndex] = parsePiece(char)\n",
        "      FENIndex += 1\n",
        "    elif char.isdigit():\n",
        "      for emptySpace in range(int(char)):\n",
        "        parsed[0][FENIndex] = 0\n",
        "        FENIndex += 1\n",
        "    elif char == ' ':\n",
        "      break\n",
        "  return pd.DataFrame(parsed, columns=labels)"
      ]
    },
    {
      "cell_type": "code",
      "execution_count": null,
      "metadata": {
        "id": "TIVAlUtxY3zp"
      },
      "outputs": [],
      "source": [
        "board.reset()"
      ]
    },
    {
      "cell_type": "code",
      "execution_count": null,
      "metadata": {
        "id": "yLyAXJUa6vKo"
      },
      "outputs": [],
      "source": [
        "\n",
        "print(board)\n",
        "\n",
        "for i in range(1,501):\n",
        "\n",
        "  human_move = input(\"Your Move: \")\n",
        "\n",
        "  if human_move == \"/e\":\n",
        "    break\n",
        "\n",
        "  board.push_san(human_move)\n",
        "\n",
        "  clear_output()\n",
        "\n",
        "  maxEval = 0\n",
        "  move_to_play = chess.Move\n",
        "\n",
        "  for uci in board.legal_moves:\n",
        "    move = chess.Move.from_uci(str(uci))\n",
        "    board.push(move)\n",
        "    FEN = board.fen()\n",
        "    move_df = parseFEN(FEN)\n",
        "    pred = abs(mlp_model.predict(move_df))\n",
        "    board.pop()\n",
        "\n",
        "    print(pred[0])\n",
        "\n",
        "    if pred[0] > maxEval:\n",
        "      maxEval = pred[0]\n",
        "      move_to_play = move\n",
        "    \n",
        "    if pred[0] == maxEval:\n",
        "      pick = random.randrange(2)\n",
        "      if pick == 0:\n",
        "        move_to_play = move\n",
        "    \n",
        "  board.push(move_to_play)\n",
        "\n",
        "  print(board)\n",
        "  print(board.fullmove_number)\n",
        "\n",
        "  if board.is_game_over():\n",
        "    break\n",
        "\n",
        "board\n",
        "\n",
        "#board.outcome()\n"
      ]
    },
    {
      "cell_type": "code",
      "execution_count": null,
      "metadata": {
        "colab": {
          "base_uri": "https://localhost:8080/",
          "height": 70
        },
        "id": "Q7s2AZzVVnCU",
        "outputId": "4e4099a9-cc23-4c79-ebbc-14db942588bf"
      },
      "outputs": [
        {
          "name": "stdout",
          "output_type": "stream",
          "text": [
            "14\n"
          ]
        },
        {
          "data": {
            "application/vnd.google.colaboratory.intrinsic+json": {
              "type": "string"
            },
            "text/plain": [
              "'♜ · ♝ ♛ ♚ ♝ · ♜\\n♗ · · ♟ ♟ ♟ · ·\\n♞ · · · · · ♕ ·\\n· · ♟ · ♙ · · ♟\\n· ♟ ♙ · · ♟ · ♙\\n· · · ♙ · · · ·\\n♙ ♙ · · · ♙ ♙ ·\\n♖ · · ♔ · ♗ ♘ ♖'"
            ]
          },
          "execution_count": 19,
          "metadata": {},
          "output_type": "execute_result"
        }
      ],
      "source": [
        "\n",
        "for i in range(1,10):\n",
        "\n",
        "  maxEval = 0\n",
        "  move_to_play = chess.Move\n",
        "\n",
        "  for uci in board.legal_moves:\n",
        "    move = chess.Move.from_uci(str(uci))\n",
        "    board.push(move)\n",
        "    FEN = board.fen()\n",
        "    move_df = parseFEN(FEN)\n",
        "    pred = abs(mlp_model.predict(move_df))\n",
        "    board.pop()\n",
        "\n",
        "    #print(pred[0])\n",
        "\n",
        "    if pred[0] > maxEval:\n",
        "      maxEval = pred[0]\n",
        "      move_to_play = move\n",
        "    \n",
        "    if pred[0] == maxEval:\n",
        "      pick = random.randrange(2)\n",
        "      if pick == 0:\n",
        "        move_to_play = move\n",
        "    \n",
        "  board.push(move_to_play)\n",
        "\n",
        "  clear_output()\n",
        "\n",
        "  print(board.fullmove_number)\n",
        "\n",
        "  if board.is_game_over():\n",
        "    break\n",
        "\n",
        "board\n",
        "\n",
        "\n",
        "\n",
        "#board.outcome()\n"
      ]
    },
    {
      "cell_type": "code",
      "execution_count": null,
      "metadata": {
        "colab": {
          "base_uri": "https://localhost:8080/",
          "height": 234
        },
        "id": "5wzpCVSkXDSG",
        "outputId": "39f740f9-70d8-43d1-af28-ae17aa849cba"
      },
      "outputs": [
        {
          "ename": "AttributeError",
          "evalue": "ignored",
          "output_type": "error",
          "traceback": [
            "\u001b[0;31m---------------------------------------------------------------------------\u001b[0m",
            "\u001b[0;31mAttributeError\u001b[0m                            Traceback (most recent call last)",
            "\u001b[0;32m<ipython-input-31-9723be90d75b>\u001b[0m in \u001b[0;36m<module>\u001b[0;34m()\u001b[0m\n\u001b[0;32m----> 1\u001b[0;31m \u001b[0;32mif\u001b[0m \u001b[0mchess\u001b[0m\u001b[0;34m.\u001b[0m\u001b[0mwhite\u001b[0m\u001b[0;34m(\u001b[0m\u001b[0;34m)\u001b[0m\u001b[0;34m:\u001b[0m\u001b[0;34m\u001b[0m\u001b[0;34m\u001b[0m\u001b[0m\n\u001b[0m\u001b[1;32m      2\u001b[0m   \u001b[0mprint\u001b[0m\u001b[0;34m(\u001b[0m\u001b[0;34m\"HI\"\u001b[0m\u001b[0;34m)\u001b[0m\u001b[0;34m\u001b[0m\u001b[0;34m\u001b[0m\u001b[0m\n\u001b[1;32m      3\u001b[0m \u001b[0;34m\u001b[0m\u001b[0m\n\u001b[1;32m      4\u001b[0m \u001b[0;32melse\u001b[0m\u001b[0;34m:\u001b[0m\u001b[0;34m\u001b[0m\u001b[0;34m\u001b[0m\u001b[0m\n\u001b[1;32m      5\u001b[0m   \u001b[0mprint\u001b[0m\u001b[0;34m(\u001b[0m\u001b[0;34m\"BYE\"\u001b[0m\u001b[0;34m)\u001b[0m\u001b[0;34m\u001b[0m\u001b[0;34m\u001b[0m\u001b[0m\n",
            "\u001b[0;31mAttributeError\u001b[0m: module 'chess' has no attribute 'white'"
          ]
        }
      ],
      "source": [
        "if chess.white():\n",
        "  print(\"HI\")\n",
        "\n",
        "else:\n",
        "  print(\"BYE\")"
      ]
    },
    {
      "cell_type": "code",
      "execution_count": null,
      "metadata": {
        "id": "SB0ZdIGiXv3z"
      },
      "outputs": [],
      "source": [
        ""
      ]
    }
  ],
  "metadata": {
    "colab": {
      "collapsed_sections": [
        "3r4owU88OFv8",
        "Jg4qYtA3Ps89",
        "2QCxH1G4Q1n9",
        "xzrTh3fleRHd",
        "TkvAoCP8P-nI",
        "Iit-wR7cPqj4",
        "f0klw4yWYogz",
        "Ewr8FEl_Z6T8",
        "G3MeoeLxacNt",
        "3mFaK71Eah8X"
      ],
      "name": "Chess Engine.ipynb",
      "provenance": [],
      "mount_file_id": "1T47A2Zv9HXd3II1xqbGDeXMF9EL95V7S",
      "authorship_tag": "ABX9TyPd9Nk1cmOhmGzdzrChcnzL",
      "include_colab_link": true
    },
    "kernelspec": {
      "display_name": "Python 3",
      "name": "python3"
    },
    "language_info": {
      "name": "python"
    }
  },
  "nbformat": 4,
  "nbformat_minor": 0
}